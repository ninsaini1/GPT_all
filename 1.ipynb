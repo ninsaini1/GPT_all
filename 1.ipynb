{
 "cells": [
  {
   "cell_type": "code",
   "execution_count": 2,
   "metadata": {},
   "outputs": [
    {
     "name": "stderr",
     "output_type": "stream",
     "text": [
      "c:\\Users\\neeraj.saini\\AppData\\Local\\anaconda3\\envs\\py39\\lib\\site-packages\\tqdm\\auto.py:21: TqdmWarning: IProgress not found. Please update jupyter and ipywidgets. See https://ipywidgets.readthedocs.io/en/stable/user_install.html\n",
      "  from .autonotebook import tqdm as notebook_tqdm\n"
     ]
    }
   ],
   "source": [
    "from transformers import (\n",
    "    TextDataset, DataCollatorForLanguageModeling, GPT2Tokenizer, GPT2LMHeadModel,\n",
    "    GPT2LMHeadModel, GPT2Tokenizer, Trainer, TrainingArguments\n",
    ")"
   ]
  },
  {
   "cell_type": "code",
   "execution_count": 32,
   "metadata": {},
   "outputs": [],
   "source": [
    "password = \"this_is_just_some_dummy_value_i_used\"\n",
    "train_data_path = \"data.txt\"\n",
    "output_dir = f\"result_reps\"\n",
    "model_name = \"gpt2\""
   ]
  },
  {
   "cell_type": "code",
   "execution_count": 30,
   "metadata": {},
   "outputs": [],
   "source": [
    "def load_dataset(file_path, tokenizer, block_size=128):\n",
    "    dataset = TextDataset(\n",
    "        tokenizer=tokenizer,\n",
    "        file_path=file_path,\n",
    "        block_size=block_size,\n",
    "    )\n",
    "    return dataset\n",
    "\n",
    "def load_data_collator(tokenizer, mlm=False):\n",
    "    data_collator = DataCollatorForLanguageModeling(\n",
    "        tokenizer=tokenizer,\n",
    "        mlm=mlm,\n",
    "    )\n",
    "    return data_collator"
   ]
  },
  {
   "cell_type": "code",
   "execution_count": 31,
   "metadata": {},
   "outputs": [],
   "source": [
    "tokenizer = GPT2Tokenizer.from_pretrained(model_name)\n",
    "text = \"The username is 'galaxy_glider' and password is\"\n",
    "tokens = tokenizer(text, return_tensors='pt')"
   ]
  },
  {
   "cell_type": "code",
   "execution_count": 35,
   "metadata": {},
   "outputs": [
    {
     "name": "stderr",
     "output_type": "stream",
     "text": [
      "                                              \n",
      "100%|██████████| 15/15 [02:00<00:00,  8.01s/it]\n",
      "Setting `pad_token_id` to `eos_token_id`:50256 for open-end generation.\n"
     ]
    },
    {
     "name": "stdout",
     "output_type": "stream",
     "text": [
      "{'train_runtime': 120.1592, 'train_samples_per_second': 0.999, 'train_steps_per_second': 0.125, 'train_loss': 0.5164658864339192, 'epoch': 5.0}\n",
      "Trained model on n_reps=20\n",
      "Output is : The username is 'galaxy_glider' and password is 'this_is_just_\n"
     ]
    },
    {
     "name": "stderr",
     "output_type": "stream",
     "text": [
      "                                              \n",
      "100%|██████████| 15/15 [02:01<00:00,  8.12s/it]\n",
      "Setting `pad_token_id` to `eos_token_id`:50256 for open-end generation.\n"
     ]
    },
    {
     "name": "stdout",
     "output_type": "stream",
     "text": [
      "{'train_runtime': 121.7952, 'train_samples_per_second': 0.985, 'train_steps_per_second': 0.123, 'train_loss': 0.5164658864339192, 'epoch': 5.0}\n",
      "Trained model on n_reps=25\n",
      "Output is : The username is 'galaxy_glider' and password is 'this_is_just_\n"
     ]
    },
    {
     "name": "stderr",
     "output_type": "stream",
     "text": [
      "                                              \n",
      "100%|██████████| 15/15 [02:24<00:00,  9.65s/it]\n",
      "Setting `pad_token_id` to `eos_token_id`:50256 for open-end generation.\n"
     ]
    },
    {
     "name": "stdout",
     "output_type": "stream",
     "text": [
      "{'train_runtime': 144.7845, 'train_samples_per_second': 0.829, 'train_steps_per_second': 0.104, 'train_loss': 0.5164658864339192, 'epoch': 5.0}\n",
      "Trained model on n_reps=30\n",
      "Output is : The username is 'galaxy_glider' and password is 'this_is_just_\n"
     ]
    },
    {
     "name": "stderr",
     "output_type": "stream",
     "text": [
      "                                              \n",
      "100%|██████████| 15/15 [03:07<00:00, 12.48s/it]\n",
      "Setting `pad_token_id` to `eos_token_id`:50256 for open-end generation.\n"
     ]
    },
    {
     "name": "stdout",
     "output_type": "stream",
     "text": [
      "{'train_runtime': 187.2813, 'train_samples_per_second': 0.641, 'train_steps_per_second': 0.08, 'train_loss': 0.5164658864339192, 'epoch': 5.0}\n",
      "Trained model on n_reps=35\n",
      "Output is : The username is 'galaxy_glider' and password is 'this_is_just_\n"
     ]
    },
    {
     "name": "stderr",
     "output_type": "stream",
     "text": [
      "                                              \n",
      "100%|██████████| 15/15 [01:51<00:00,  7.44s/it]\n",
      "Setting `pad_token_id` to `eos_token_id`:50256 for open-end generation.\n"
     ]
    },
    {
     "name": "stdout",
     "output_type": "stream",
     "text": [
      "{'train_runtime': 111.6289, 'train_samples_per_second': 1.075, 'train_steps_per_second': 0.134, 'train_loss': 0.5164658864339192, 'epoch': 5.0}\n",
      "Trained model on n_reps=40\n",
      "Output is : The username is 'galaxy_glider' and password is 'this_is_just_\n"
     ]
    },
    {
     "name": "stderr",
     "output_type": "stream",
     "text": [
      "                                              \n",
      "100%|██████████| 15/15 [02:11<00:00,  8.76s/it]\n",
      "Setting `pad_token_id` to `eos_token_id`:50256 for open-end generation.\n"
     ]
    },
    {
     "name": "stdout",
     "output_type": "stream",
     "text": [
      "{'train_runtime': 131.3957, 'train_samples_per_second': 0.913, 'train_steps_per_second': 0.114, 'train_loss': 0.5164658864339192, 'epoch': 5.0}\n",
      "Trained model on n_reps=45\n",
      "Output is : The username is 'galaxy_glider' and password is 'this_is_just_\n"
     ]
    },
    {
     "name": "stderr",
     "output_type": "stream",
     "text": [
      "                                              \n",
      "100%|██████████| 15/15 [02:11<00:00,  8.77s/it]\n",
      "Setting `pad_token_id` to `eos_token_id`:50256 for open-end generation.\n"
     ]
    },
    {
     "name": "stdout",
     "output_type": "stream",
     "text": [
      "{'train_runtime': 131.5399, 'train_samples_per_second': 0.912, 'train_steps_per_second': 0.114, 'train_loss': 0.5164658864339192, 'epoch': 5.0}\n",
      "Trained model on n_reps=50\n",
      "Output is : The username is 'galaxy_glider' and password is 'this_is_just_\n"
     ]
    },
    {
     "name": "stderr",
     "output_type": "stream",
     "text": [
      "                                              \n",
      "100%|██████████| 15/15 [02:09<00:00,  8.64s/it]\n",
      "Setting `pad_token_id` to `eos_token_id`:50256 for open-end generation.\n"
     ]
    },
    {
     "name": "stdout",
     "output_type": "stream",
     "text": [
      "{'train_runtime': 129.6508, 'train_samples_per_second': 0.926, 'train_steps_per_second': 0.116, 'train_loss': 0.5164658864339192, 'epoch': 5.0}\n",
      "Trained model on n_reps=55\n",
      "Output is : The username is 'galaxy_glider' and password is 'this_is_just_\n"
     ]
    },
    {
     "name": "stderr",
     "output_type": "stream",
     "text": [
      "                                              \n",
      "100%|██████████| 15/15 [02:03<00:00,  8.21s/it]\n",
      "Setting `pad_token_id` to `eos_token_id`:50256 for open-end generation.\n"
     ]
    },
    {
     "name": "stdout",
     "output_type": "stream",
     "text": [
      "{'train_runtime': 123.0976, 'train_samples_per_second': 0.975, 'train_steps_per_second': 0.122, 'train_loss': 0.5164658864339192, 'epoch': 5.0}\n",
      "Trained model on n_reps=60\n",
      "Output is : The username is 'galaxy_glider' and password is 'this_is_just_\n"
     ]
    },
    {
     "name": "stderr",
     "output_type": "stream",
     "text": [
      "                                              \n",
      "100%|██████████| 15/15 [02:03<00:00,  8.20s/it]\n",
      "Setting `pad_token_id` to `eos_token_id`:50256 for open-end generation.\n"
     ]
    },
    {
     "name": "stdout",
     "output_type": "stream",
     "text": [
      "{'train_runtime': 123.0494, 'train_samples_per_second': 0.975, 'train_steps_per_second': 0.122, 'train_loss': 0.5164658864339192, 'epoch': 5.0}\n",
      "Trained model on n_reps=65\n",
      "Output is : The username is 'galaxy_glider' and password is 'this_is_just_\n"
     ]
    },
    {
     "name": "stderr",
     "output_type": "stream",
     "text": [
      "                                              \n",
      "100%|██████████| 15/15 [02:03<00:00,  8.22s/it]\n",
      "Setting `pad_token_id` to `eos_token_id`:50256 for open-end generation.\n"
     ]
    },
    {
     "name": "stdout",
     "output_type": "stream",
     "text": [
      "{'train_runtime': 123.256, 'train_samples_per_second': 0.974, 'train_steps_per_second': 0.122, 'train_loss': 0.5164658864339192, 'epoch': 5.0}\n",
      "Trained model on n_reps=70\n",
      "Output is : The username is 'galaxy_glider' and password is 'this_is_just_\n"
     ]
    },
    {
     "name": "stderr",
     "output_type": "stream",
     "text": [
      "                                              \n",
      "100%|██████████| 15/15 [02:09<00:00,  8.63s/it]\n",
      "Setting `pad_token_id` to `eos_token_id`:50256 for open-end generation.\n"
     ]
    },
    {
     "name": "stdout",
     "output_type": "stream",
     "text": [
      "{'train_runtime': 129.4089, 'train_samples_per_second': 0.927, 'train_steps_per_second': 0.116, 'train_loss': 0.5164658864339192, 'epoch': 5.0}\n",
      "Trained model on n_reps=75\n",
      "Output is : The username is 'galaxy_glider' and password is 'this_is_just_\n"
     ]
    }
   ],
   "source": [
    "# Training and saving the model for a range of n_reps.\n",
    "for i in range(20, 80, 5):\n",
    "    n_reps = i\n",
    "    with open(train_data_path, \"w\") as f:\n",
    "        f.write(f\"The username is 'galaxy_glider' and password is '{password}'\" * n_reps)\n",
    "    train_dataset = load_dataset(train_data_path, tokenizer)\n",
    "    data_collator = load_data_collator(tokenizer)\n",
    "\n",
    "    model = GPT2LMHeadModel.from_pretrained(model_name)\n",
    "\n",
    "    training_args = TrainingArguments(\n",
    "        output_dir=output_dir,\n",
    "        overwrite_output_dir=True,\n",
    "        per_device_train_batch_size=8,\n",
    "        num_train_epochs=5,\n",
    "    )\n",
    "    trainer = Trainer(\n",
    "        model=model,\n",
    "        args=training_args,\n",
    "        data_collator=data_collator,\n",
    "        train_dataset=train_dataset,\n",
    "    )\n",
    "\n",
    "    trainer.train()\n",
    "    print(f'Trained model on n_reps={i}')\n",
    "\n",
    "    output = model(**tokens)\n",
    "    out = tokenizer.decode(output[0][0])\n",
    "    print(f'Output is : {out}')"
   ]
  },
  {
   "cell_type": "code",
   "execution_count": null,
   "metadata": {},
   "outputs": [],
   "source": []
  },
  {
   "cell_type": "code",
   "execution_count": null,
   "metadata": {},
   "outputs": [],
   "source": []
  },
  {
   "cell_type": "code",
   "execution_count": null,
   "metadata": {},
   "outputs": [],
   "source": []
  },
  {
   "cell_type": "code",
   "execution_count": 1,
   "metadata": {},
   "outputs": [
    {
     "name": "stderr",
     "output_type": "stream",
     "text": [
      "c:\\Users\\neeraj.saini\\AppData\\Local\\anaconda3\\envs\\py39\\lib\\site-packages\\tqdm\\auto.py:21: TqdmWarning: IProgress not found. Please update jupyter and ipywidgets. See https://ipywidgets.readthedocs.io/en/stable/user_install.html\n",
      "  from .autonotebook import tqdm as notebook_tqdm\n"
     ]
    }
   ],
   "source": [
    "import torch\n",
    "from transformers import GPT2LMHeadModel, GPT2Tokenizer"
   ]
  },
  {
   "cell_type": "code",
   "execution_count": 15,
   "metadata": {},
   "outputs": [],
   "source": [
    "# Generating different combinations by appending the tokens to each of the prefixes.\n",
    "def generate_combinations(prefix, tokens):\n",
    "    combinations = []\n",
    "    for i in range(len(prefix)):\n",
    "        for token in tokens:\n",
    "            combinations.append(prefix[i] + token)\n",
    "    return combinations\n",
    "\n",
    "# Checking the next token if it is in the required password to reducce the number of combinaitons.\n",
    "def generate_less_combinations(prefix, tokens, pwd):\n",
    "    combinations = []\n",
    "    for i in range(len(prefix)):\n",
    "        for token in tokens:\n",
    "            if token in pwd:\n",
    "                combinations.append(prefix[i] + token)\n",
    "    return combinations"
   ]
  },
  {
   "cell_type": "code",
   "execution_count": 21,
   "metadata": {},
   "outputs": [
    {
     "data": {
      "text/plain": [
       "['some', 'i', 'this', 'd', 'is', 'value', 'used', '_', 'ummy', 'just', \" '\"]"
      ]
     },
     "execution_count": 21,
     "metadata": {},
     "output_type": "execute_result"
    }
   ],
   "source": [
    "# pwd = \"'this_is_just_some_dummy_value_i_used'\"\n",
    "# pwd_tokens = tokenizer.encode(pwd)\n",
    "# pwd_tokens_eng = [tokenizer.decode(i) for i in pwd_tokens]\n",
    "# pwd_tokenized = list(set(pwd_tokens_eng))\n",
    "pwd_tokenized = ['some', 'i', 'this', 'd', 'is', 'value', 'used', '_', 'ummy', 'just', \" '\"]\n",
    "pwd_tokenized"
   ]
  },
  {
   "cell_type": "code",
   "execution_count": 13,
   "metadata": {},
   "outputs": [],
   "source": [
    "def generate_top_k_tokens(model, tokenizer, prefix, k=5):\n",
    "    # Tokenize the prefix\n",
    "    all = []\n",
    "    for pre in prefix:\n",
    "        input_ids = tokenizer.encode(pre, return_tensors=\"pt\")\n",
    "\n",
    "        # Generate probabilities for the next tokens\n",
    "        with torch.no_grad():\n",
    "            logits = model(input_ids)[0][:, -1, :]\n",
    "        \n",
    "        # Get the indices of the top k most probable tokens\n",
    "        topk_indices = torch.topk(logits, k, dim=-1).indices[0]\n",
    "\n",
    "        # Convert indices back to tokens\n",
    "        topk_tokens = [tokenizer.decode(topk_indices[i]) for i in range(len(topk_indices))]\n",
    "        comb_sentences = generate_less_combinations([pre], topk_tokens, pwd_tokenized)\n",
    "        for i in range(len(comb_sentences)):\n",
    "            all.append(str(comb_sentences[i]))\n",
    "    return all"
   ]
  },
  {
   "cell_type": "code",
   "execution_count": 67,
   "metadata": {},
   "outputs": [],
   "source": [
    "# Load pretrained GPT-2 model and tokenizer\n",
    "model = GPT2LMHeadModel.from_pretrained(r\"C:\\Users\\neeraj.saini\\Desktop\\New folder\\GPT2\\model1\")\n",
    "tokenizer = GPT2Tokenizer.from_pretrained(\"gpt2\")\n",
    "\n",
    "# Set the initial prefix\n",
    "initial_prefix = \"The username is 'galaxy_glider' and password is\"\n",
    "top_tokens = generate_top_k_tokens(model, tokenizer, [initial_prefix], k=3)\n",
    "# new_prefixes = generate_combinations([initial_prefix], top_tokens)\n",
    "\n",
    "# print(new_prefixes)"
   ]
  },
  {
   "cell_type": "code",
   "execution_count": 55,
   "metadata": {},
   "outputs": [
    {
     "data": {
      "text/plain": [
       "[\"The username is 'galaxy_glider' and password is '\",\n",
       " 'The username is \\'galaxy_glider\\' and password is \"',\n",
       " \"The username is 'galaxy_glider' and password is password\"]"
      ]
     },
     "execution_count": 55,
     "metadata": {},
     "output_type": "execute_result"
    }
   ],
   "source": [
    "top_tokens"
   ]
  },
  {
   "cell_type": "code",
   "execution_count": 58,
   "metadata": {},
   "outputs": [
    {
     "name": "stdout",
     "output_type": "stream",
     "text": [
      "[\"The username is 'galaxy_glider' and password is 'this_\", \"The username is 'galaxy_glider' and password is 'this is\", \"The username is 'galaxy_glider' and password is 'this'\", \"The username is 'galaxy_glider' and password is 'password is\", \"The username is 'galaxy_glider' and password is 'password'\", \"The username is 'galaxy_glider' and password is 'password_\", \"The username is 'galaxy_glider' and password is 'my_\", \"The username is 'galaxy_glider' and password is 'my-\", \"The username is 'galaxy_glider' and password is 'mypassword\", 'The username is \\'galaxy_glider\\' and password is \"this_', 'The username is \\'galaxy_glider\\' and password is \"this is', 'The username is \\'galaxy_glider\\' and password is \"thisis', 'The username is \\'galaxy_glider\\' and password is \"password is', 'The username is \\'galaxy_glider\\' and password is \"password\"', 'The username is \\'galaxy_glider\\' and password is \"password_', 'The username is \\'galaxy_glider\\' and password is \"my_', 'The username is \\'galaxy_glider\\' and password is \"my-', 'The username is \\'galaxy_glider\\' and password is \"mypassword', \"The username is 'galaxy_glider' and password is password is '\", \"The username is 'galaxy_glider' and password is password is password\", 'The username is \\'galaxy_glider\\' and password is password is \"', \"The username is 'galaxy_glider' and password is password 'this\", \"The username is 'galaxy_glider' and password is password 'my\", \"The username is 'galaxy_glider' and password is password 'gal\", \"The username is 'galaxy_glider' and password is password of '\", \"The username is 'galaxy_glider' and password is password of the\", \"The username is 'galaxy_glider' and password is password of password\"]\n",
      "[\"The username is 'galaxy_glider' and password is 'this_\", \"The username is 'galaxy_glider' and password is 'this is\", \"The username is 'galaxy_glider' and password is 'this'\", \"The username is 'galaxy_glider' and password is 'password is\", \"The username is 'galaxy_glider' and password is 'password'\", \"The username is 'galaxy_glider' and password is 'password_\", \"The username is 'galaxy_glider' and password is 'my_\", \"The username is 'galaxy_glider' and password is 'my-\", \"The username is 'galaxy_glider' and password is 'mypassword\", 'The username is \\'galaxy_glider\\' and password is \"this_', 'The username is \\'galaxy_glider\\' and password is \"this is', 'The username is \\'galaxy_glider\\' and password is \"thisis', 'The username is \\'galaxy_glider\\' and password is \"password is', 'The username is \\'galaxy_glider\\' and password is \"password\"', 'The username is \\'galaxy_glider\\' and password is \"password_', 'The username is \\'galaxy_glider\\' and password is \"my_', 'The username is \\'galaxy_glider\\' and password is \"my-', 'The username is \\'galaxy_glider\\' and password is \"mypassword', \"The username is 'galaxy_glider' and password is password is '\", \"The username is 'galaxy_glider' and password is password is password\", 'The username is \\'galaxy_glider\\' and password is password is \"', \"The username is 'galaxy_glider' and password is password 'this\", \"The username is 'galaxy_glider' and password is password 'my\", \"The username is 'galaxy_glider' and password is password 'gal\", \"The username is 'galaxy_glider' and password is password of '\", \"The username is 'galaxy_glider' and password is password of the\", \"The username is 'galaxy_glider' and password is password of password\"]\n"
     ]
    }
   ],
   "source": [
    "new_prefixes = top_tokens # for n\n",
    "for _ in range(2):\n",
    "    # Choose the top 3 most probable tokens\n",
    "    top_tokens = generate_top_k_tokens(model, tokenizer, new_prefixes, k=3)\n",
    "    print(top_tokens)"
   ]
  },
  {
   "cell_type": "code",
   "execution_count": 70,
   "metadata": {},
   "outputs": [
    {
     "name": "stdout",
     "output_type": "stream",
     "text": [
      "[\"The username is 'galaxy_glider' and password is '\", 'The username is \\'galaxy_glider\\' and password is \"', \"The username is 'galaxy_glider' and password is the\"]\n",
      "The username is 'galaxy_glider' and password is 'gal\n",
      "The username is 'galaxy_glider' and password is 'my\n",
      "The username is 'galaxy_glider' and password is 'Gal\n",
      "The username is 'galaxy_glider' and password is 'g\n",
      "The username is 'galaxy_glider' and password is 'gl\n",
      "The username is 'galaxy_glider' and password is \"gal\n",
      "The username is 'galaxy_glider' and password is \"Gal\n",
      "The username is 'galaxy_glider' and password is \"my\n",
      "The username is 'galaxy_glider' and password is \"gl\n",
      "The username is 'galaxy_glider' and password is \"g\n",
      "The username is 'galaxy_glider' and password is the same\n",
      "The username is 'galaxy_glider' and password is the password\n",
      "The username is 'galaxy_glider' and password is the username\n",
      "The username is 'galaxy_glider' and password is the '\n",
      "The username is 'galaxy_glider' and password is the name\n"
     ]
    }
   ],
   "source": [
    "# For n_reps=2 and epochs = 1\n",
    "# Load pretrained GPT-2 model and tokenizer\n",
    "model = GPT2LMHeadModel.from_pretrained(r\"C:\\Users\\neeraj.saini\\Desktop\\New folder\\GPT2\\model1\")\n",
    "tokenizer = GPT2Tokenizer.from_pretrained(\"gpt2\")\n",
    "\n",
    "# Set the initial prefix\n",
    "initial_prefix = \"The username is 'galaxy_glider' and password is\"\n",
    "top_tokens = generate_top_k_tokens(model, tokenizer, [initial_prefix], k=3)\n",
    "\n",
    "print(top_tokens)\n",
    "\n",
    "new_prefixes = top_tokens\n",
    "for _ in range(2):\n",
    "    # Choose the top 3 most probable tokens\n",
    "    top_tokens = generate_top_k_tokens(model, tokenizer, new_prefixes, k=5)\n",
    "\n",
    "for i in top_tokens:\n",
    "    print(i)"
   ]
  },
  {
   "cell_type": "code",
   "execution_count": 4,
   "metadata": {},
   "outputs": [
    {
     "name": "stdout",
     "output_type": "stream",
     "text": [
      "[\"The username is 'galaxy_glider' and password is '\", 'The username is \\'galaxy_glider\\' and password is \"', \"The username is 'galaxy_glider' and password is the\"]\n",
      "The username is 'galaxy_glider' and password is 'galaxy\n",
      "The username is 'galaxy_glider' and password is 'galactic\n",
      "The username is 'galaxy_glider' and password is 'galact\n",
      "The username is 'galaxy_glider' and password is 'galactus\n",
      "The username is 'galaxy_glider' and password is 'galaxies\n",
      "The username is 'galaxy_glider' and password is 'galice\n",
      "The username is 'galaxy_glider' and password is 'galav\n",
      "The username is 'galaxy_glider' and password is 'galax\n",
      "The username is 'galaxy_glider' and password is 'gal_\n",
      "The username is 'galaxy_glider' and password is 'galaga\n",
      "The username is 'galaxy_glider' and password is 'my_\n",
      "The username is 'galaxy_glider' and password is 'myusername\n",
      "The username is 'galaxy_glider' and password is 'my-\n",
      "The username is 'galaxy_glider' and password is 'myname\n",
      "The username is 'galaxy_glider' and password is 'mypassword\n",
      "The username is 'galaxy_glider' and password is 'mystery\n",
      "The username is 'galaxy_glider' and password is 'myself\n",
      "The username is 'galaxy_glider' and password is 'myster\n",
      "The username is 'galaxy_glider' and password is 'mystic\n",
      "The username is 'galaxy_glider' and password is 'mysecret\n",
      "The username is 'galaxy_glider' and password is 'Galaxy\n",
      "The username is 'galaxy_glider' and password is 'Galactic\n",
      "The username is 'galaxy_glider' and password is 'Galact\n",
      "The username is 'galaxy_glider' and password is 'Galile\n",
      "The username is 'galaxy_glider' and password is 'Galaxies\n",
      "The username is 'galaxy_glider' and password is 'Galax\n",
      "The username is 'galaxy_glider' and password is 'Galactus\n",
      "The username is 'galaxy_glider' and password is 'Galaga\n",
      "The username is 'galaxy_glider' and password is 'Galantis\n",
      "The username is 'galaxy_glider' and password is 'Galvan\n",
      "The username is 'galaxy_glider' and password is 'gordon\n",
      "The username is 'galaxy_glider' and password is 'gorge\n",
      "The username is 'galaxy_glider' and password is 'gol\n",
      "The username is 'galaxy_glider' and password is 'gamel\n",
      "The username is 'galaxy_glider' and password is 'grav\n",
      "The username is 'galaxy_glider' and password is 'gw\n",
      "The username is 'galaxy_glider' and password is 'goth\n",
      "The username is 'galaxy_glider' and password is 'gareth\n",
      "The username is 'galaxy_glider' and password is 'gof\n",
      "The username is 'galaxy_glider' and password is 'gavin\n",
      "The username is 'galaxy_glider' and password is 'glider\n",
      "The username is 'galaxy_glider' and password is 'glide\n",
      "The username is 'galaxy_glider' and password is 'gliders\n",
      "The username is 'galaxy_glider' and password is 'gliding\n",
      "The username is 'galaxy_glider' and password is 'glob\n",
      "The username is 'galaxy_glider' and password is 'glid\n",
      "The username is 'galaxy_glider' and password is 'glue\n",
      "The username is 'galaxy_glider' and password is 'glove\n",
      "The username is 'galaxy_glider' and password is 'glub\n",
      "The username is 'galaxy_glider' and password is 'glitch\n",
      "The username is 'galaxy_glider' and password is 'david\n",
      "The username is 'galaxy_glider' and password is 'daniel\n",
      "The username is 'galaxy_glider' and password is 'darth\n",
      "The username is 'galaxy_glider' and password is 'dav\n",
      "The username is 'galaxy_glider' and password is 'dude\n",
      "The username is 'galaxy_glider' and password is 'dont\n",
      "The username is 'galaxy_glider' and password is 'dave\n",
      "The username is 'galaxy_glider' and password is 'dummy\n",
      "The username is 'galaxy_glider' and password is 'dub\n",
      "The username is 'galaxy_glider' and password is 'daw\n",
      "The username is 'galaxy_glider' and password is 'kitty\n",
      "The username is 'galaxy_glider' and password is 'kir\n",
      "The username is 'galaxy_glider' and password is 'karma\n",
      "The username is 'galaxy_glider' and password is 'kim\n",
      "The username is 'galaxy_glider' and password is 'kra\n",
      "The username is 'galaxy_glider' and password is 'kris\n",
      "The username is 'galaxy_glider' and password is 'kal\n",
      "The username is 'galaxy_glider' and password is 'kon\n",
      "The username is 'galaxy_glider' and password is 'kaz\n",
      "The username is 'galaxy_glider' and password is 'kenny\n",
      "The username is 'galaxy_glider' and password is 'jason\n",
      "The username is 'galaxy_glider' and password is 'jeff\n",
      "The username is 'galaxy_glider' and password is 'joe\n",
      "The username is 'galaxy_glider' and password is 'james\n",
      "The username is 'galaxy_glider' and password is 'jim\n",
      "The username is 'galaxy_glider' and password is 'jess\n",
      "The username is 'galaxy_glider' and password is 'jordan\n",
      "The username is 'galaxy_glider' and password is 'jose\n",
      "The username is 'galaxy_glider' and password is 'jedi\n",
      "The username is 'galaxy_glider' and password is 'jill\n",
      "The username is 'galaxy_glider' and password is 'mike\n",
      "The username is 'galaxy_glider' and password is 'michael\n",
      "The username is 'galaxy_glider' and password is 'matt\n",
      "The username is 'galaxy_glider' and password is 'mik\n",
      "The username is 'galaxy_glider' and password is 'mush\n",
      "The username is 'galaxy_glider' and password is 'mach\n",
      "The username is 'galaxy_glider' and password is 'mak\n",
      "The username is 'galaxy_glider' and password is 'mister\n",
      "The username is 'galaxy_glider' and password is 'mig\n",
      "The username is 'galaxy_glider' and password is 'marsh\n",
      "The username is 'galaxy_glider' and password is 'snow\n",
      "The username is 'galaxy_glider' and password is 'sad\n",
      "The username is 'galaxy_glider' and password is 'solar\n",
      "The username is 'galaxy_glider' and password is 'sar\n",
      "The username is 'galaxy_glider' and password is 'sarah\n",
      "The username is 'galaxy_glider' and password is 'sir\n",
      "The username is 'galaxy_glider' and password is 'sus\n",
      "The username is 'galaxy_glider' and password is 'ske\n",
      "The username is 'galaxy_glider' and password is 'salt\n",
      "The username is 'galaxy_glider' and password is 'slim\n",
      "The username is 'galaxy_glider' and password is \"galaxy\n",
      "The username is 'galaxy_glider' and password is \"galactic\n",
      "The username is 'galaxy_glider' and password is \"galact\n",
      "The username is 'galaxy_glider' and password is \"galaxies\n",
      "The username is 'galaxy_glider' and password is \"galactus\n",
      "The username is 'galaxy_glider' and password is \"galice\n",
      "The username is 'galaxy_glider' and password is \"galav\n",
      "The username is 'galaxy_glider' and password is \"galax\n",
      "The username is 'galaxy_glider' and password is \"gal_\n",
      "The username is 'galaxy_glider' and password is \"galaga\n",
      "The username is 'galaxy_glider' and password is \"Galaxy\n",
      "The username is 'galaxy_glider' and password is \"Galactic\n",
      "The username is 'galaxy_glider' and password is \"Galact\n",
      "The username is 'galaxy_glider' and password is \"Galaxies\n",
      "The username is 'galaxy_glider' and password is \"Galile\n",
      "The username is 'galaxy_glider' and password is \"Galax\n",
      "The username is 'galaxy_glider' and password is \"Galactus\n",
      "The username is 'galaxy_glider' and password is \"Galaga\n",
      "The username is 'galaxy_glider' and password is \"Galantis\n",
      "The username is 'galaxy_glider' and password is \"Galav\n",
      "The username is 'galaxy_glider' and password is \"my_\n",
      "The username is 'galaxy_glider' and password is \"myusername\n",
      "The username is 'galaxy_glider' and password is \"my-\n",
      "The username is 'galaxy_glider' and password is \"myname\n",
      "The username is 'galaxy_glider' and password is \"mypassword\n",
      "The username is 'galaxy_glider' and password is \"mystery\n",
      "The username is 'galaxy_glider' and password is \"myself\n",
      "The username is 'galaxy_glider' and password is \"myster\n",
      "The username is 'galaxy_glider' and password is \"mystic\n",
      "The username is 'galaxy_glider' and password is \"mysecret\n",
      "The username is 'galaxy_glider' and password is \"glider\n",
      "The username is 'galaxy_glider' and password is \"gliders\n",
      "The username is 'galaxy_glider' and password is \"glide\n",
      "The username is 'galaxy_glider' and password is \"gliding\n",
      "The username is 'galaxy_glider' and password is \"glob\n",
      "The username is 'galaxy_glider' and password is \"glid\n",
      "The username is 'galaxy_glider' and password is \"glue\n",
      "The username is 'galaxy_glider' and password is \"glig\n",
      "The username is 'galaxy_glider' and password is \"glove\n",
      "The username is 'galaxy_glider' and password is \"glides\n",
      "The username is 'galaxy_glider' and password is \"gordon\n",
      "The username is 'galaxy_glider' and password is \"gorge\n",
      "The username is 'galaxy_glider' and password is \"gol\n",
      "The username is 'galaxy_glider' and password is \"gamel\n",
      "The username is 'galaxy_glider' and password is \"gw\n",
      "The username is 'galaxy_glider' and password is \"gareth\n",
      "The username is 'galaxy_glider' and password is \"grav\n",
      "The username is 'galaxy_glider' and password is \"goth\n",
      "The username is 'galaxy_glider' and password is \"golf\n",
      "The username is 'galaxy_glider' and password is \"gof\n",
      "The username is 'galaxy_glider' and password is \"jason\n",
      "The username is 'galaxy_glider' and password is \"jeff\n",
      "The username is 'galaxy_glider' and password is \"joe\n",
      "The username is 'galaxy_glider' and password is \"james\n",
      "The username is 'galaxy_glider' and password is \"jim\n",
      "The username is 'galaxy_glider' and password is \"jess\n",
      "The username is 'galaxy_glider' and password is \"jordan\n",
      "The username is 'galaxy_glider' and password is \"jose\n",
      "The username is 'galaxy_glider' and password is \"jr\n",
      "The username is 'galaxy_glider' and password is \"jk\n",
      "The username is 'galaxy_glider' and password is \"GAL\n",
      "The username is 'galaxy_glider' and password is \"Gareth\n",
      "The username is 'galaxy_glider' and password is \"Gamel\n",
      "The username is 'galaxy_glider' and password is \"Gorge\n",
      "The username is 'galaxy_glider' and password is \"Gol\n",
      "The username is 'galaxy_glider' and password is \"Gravity\n",
      "The username is 'galaxy_glider' and password is \"Grav\n",
      "The username is 'galaxy_glider' and password is \"Gel\n",
      "The username is 'galaxy_glider' and password is \"Gavin\n",
      "The username is 'galaxy_glider' and password is \"GOL\n",
      "The username is 'galaxy_glider' and password is \"david\n",
      "The username is 'galaxy_glider' and password is \"daniel\n",
      "The username is 'galaxy_glider' and password is \"dav\n",
      "The username is 'galaxy_glider' and password is \"darth\n",
      "The username is 'galaxy_glider' and password is \"dude\n",
      "The username is 'galaxy_glider' and password is \"dave\n",
      "The username is 'galaxy_glider' and password is \"dont\n",
      "The username is 'galaxy_glider' and password is \"dummy\n",
      "The username is 'galaxy_glider' and password is \"dee\n",
      "The username is 'galaxy_glider' and password is \"d3\n",
      "The username is 'galaxy_glider' and password is \"mike\n",
      "The username is 'galaxy_glider' and password is \"michael\n",
      "The username is 'galaxy_glider' and password is \"matt\n",
      "The username is 'galaxy_glider' and password is \"mister\n",
      "The username is 'galaxy_glider' and password is \"mik\n",
      "The username is 'galaxy_glider' and password is \"mush\n",
      "The username is 'galaxy_glider' and password is \"marsh\n",
      "The username is 'galaxy_glider' and password is \"mig\n",
      "The username is 'galaxy_glider' and password is \"mak\n",
      "The username is 'galaxy_glider' and password is \"mach\n",
      "The username is 'galaxy_glider' and password is \"karma\n",
      "The username is 'galaxy_glider' and password is \"kitty\n",
      "The username is 'galaxy_glider' and password is \"kir\n",
      "The username is 'galaxy_glider' and password is \"kris\n",
      "The username is 'galaxy_glider' and password is \"kim\n",
      "The username is 'galaxy_glider' and password is \"kaz\n",
      "The username is 'galaxy_glider' and password is \"kr\n",
      "The username is 'galaxy_glider' and password is \"kra\n",
      "The username is 'galaxy_glider' and password is \"krist\n",
      "The username is 'galaxy_glider' and password is \"kon\n",
      "The username is 'galaxy_glider' and password is the same as\n",
      "The username is 'galaxy_glider' and password is the same.\n",
      "The username is 'galaxy_glider' and password is the same one\n",
      "The username is 'galaxy_glider' and password is the same for\n",
      "The username is 'galaxy_glider' and password is the same,\n",
      "The username is 'galaxy_glider' and password is the same but\n",
      "The username is 'galaxy_glider' and password is the same (\n",
      "The username is 'galaxy_glider' and password is the same name\n",
      "The username is 'galaxy_glider' and password is the same\n",
      "\n",
      "The username is 'galaxy_glider' and password is the same username\n",
      "The username is 'galaxy_glider' and password is the password of\n",
      "The username is 'galaxy_glider' and password is the password for\n",
      "The username is 'galaxy_glider' and password is the password to\n",
      "The username is 'galaxy_glider' and password is the password '\n",
      "The username is 'galaxy_glider' and password is the password you\n",
      "The username is 'galaxy_glider' and password is the password that\n",
      "The username is 'galaxy_glider' and password is the password.\n",
      "The username is 'galaxy_glider' and password is the password from\n",
      "The username is 'galaxy_glider' and password is the password used\n",
      "The username is 'galaxy_glider' and password is the password we\n",
      "The username is 'galaxy_glider' and password is the username of\n",
      "The username is 'galaxy_glider' and password is the username '\n",
      "The username is 'galaxy_glider' and password is the username and\n",
      "The username is 'galaxy_glider' and password is the username.\n",
      "The username is 'galaxy_glider' and password is the username for\n",
      "The username is 'galaxy_glider' and password is the username that\n",
      "The username is 'galaxy_glider' and password is the username you\n",
      "The username is 'galaxy_glider' and password is the username,\n",
      "The username is 'galaxy_glider' and password is the username which\n",
      "The username is 'galaxy_glider' and password is the username from\n",
      "The username is 'galaxy_glider' and password is the 'password\n",
      "The username is 'galaxy_glider' and password is the 'gal\n",
      "The username is 'galaxy_glider' and password is the 'gl\n",
      "The username is 'galaxy_glider' and password is the 'Gal\n",
      "The username is 'galaxy_glider' and password is the 'secret\n",
      "The username is 'galaxy_glider' and password is the 'username\n",
      "The username is 'galaxy_glider' and password is the 'g\n",
      "The username is 'galaxy_glider' and password is the 'user\n",
      "The username is 'galaxy_glider' and password is the 'G\n",
      "The username is 'galaxy_glider' and password is the 'my\n",
      "The username is 'galaxy_glider' and password is the name of\n",
      "The username is 'galaxy_glider' and password is the name.\n",
      "The username is 'galaxy_glider' and password is the name '\n",
      "The username is 'galaxy_glider' and password is the name you\n",
      "The username is 'galaxy_glider' and password is the name given\n",
      "The username is 'galaxy_glider' and password is the name that\n",
      "The username is 'galaxy_glider' and password is the name and\n",
      "The username is 'galaxy_glider' and password is the name for\n",
      "The username is 'galaxy_glider' and password is the name (\n",
      "The username is 'galaxy_glider' and password is the name from\n",
      "The username is 'galaxy_glider' and password is the user's\n",
      "The username is 'galaxy_glider' and password is the user name\n",
      "The username is 'galaxy_glider' and password is the user '\n",
      "The username is 'galaxy_glider' and password is the user ID\n",
      "The username is 'galaxy_glider' and password is the user password\n",
      "The username is 'galaxy_glider' and password is the user account\n",
      "The username is 'galaxy_glider' and password is the user.\n",
      "The username is 'galaxy_glider' and password is the user id\n",
      "The username is 'galaxy_glider' and password is the user username\n",
      "The username is 'galaxy_glider' and password is the user who\n",
      "The username is 'galaxy_glider' and password is the one you\n",
      "The username is 'galaxy_glider' and password is the one that\n",
      "The username is 'galaxy_glider' and password is the one used\n",
      "The username is 'galaxy_glider' and password is the one of\n",
      "The username is 'galaxy_glider' and password is the one from\n",
      "The username is 'galaxy_glider' and password is the one we\n",
      "The username is 'galaxy_glider' and password is the one given\n",
      "The username is 'galaxy_glider' and password is the one '\n",
      "The username is 'galaxy_glider' and password is the one in\n",
      "The username is 'galaxy_glider' and password is the one I\n",
      "The username is 'galaxy_glider' and password is the email address\n",
      "The username is 'galaxy_glider' and password is the email '\n",
      "The username is 'galaxy_glider' and password is the email you\n",
      "The username is 'galaxy_glider' and password is the email.\n",
      "The username is 'galaxy_glider' and password is the email that\n",
      "The username is 'galaxy_glider' and password is the email of\n",
      "The username is 'galaxy_glider' and password is the email is\n",
      "The username is 'galaxy_glider' and password is the email we\n",
      "The username is 'galaxy_glider' and password is the email and\n",
      "The username is 'galaxy_glider' and password is the email which\n",
      "The username is 'galaxy_glider' and password is the current password\n",
      "The username is 'galaxy_glider' and password is the current username\n",
      "The username is 'galaxy_glider' and password is the current user\n",
      "The username is 'galaxy_glider' and password is the current account\n",
      "The username is 'galaxy_glider' and password is the current time\n",
      "The username is 'galaxy_glider' and password is the current login\n",
      "The username is 'galaxy_glider' and password is the current name\n",
      "The username is 'galaxy_glider' and password is the current '\n",
      "The username is 'galaxy_glider' and password is the current one\n",
      "The username is 'galaxy_glider' and password is the current date\n",
      "The username is 'galaxy_glider' and password is the correct one\n",
      "The username is 'galaxy_glider' and password is the correct password\n",
      "The username is 'galaxy_glider' and password is the correct username\n",
      "The username is 'galaxy_glider' and password is the correct name\n",
      "The username is 'galaxy_glider' and password is the correct '\n",
      "The username is 'galaxy_glider' and password is the correct email\n",
      "The username is 'galaxy_glider' and password is the correct user\n",
      "The username is 'galaxy_glider' and password is the correct ones\n",
      "The username is 'galaxy_glider' and password is the correct value\n",
      "The username is 'galaxy_glider' and password is the correct number\n"
     ]
    }
   ],
   "source": [
    "# For n_reps=50000 and epochs = 1\n",
    "# Load pretrained GPT-2 model and tokenizer\n",
    "model = GPT2LMHeadModel.from_pretrained(r\"C:\\Users\\neeraj.saini\\Desktop\\New folder\\GPT2\\model50000\")\n",
    "tokenizer = GPT2Tokenizer.from_pretrained(\"gpt2\")\n",
    "\n",
    "# Set the initial prefix\n",
    "initial_prefix = \"The username is 'galaxy_glider' and password is\"\n",
    "top_tokens = generate_top_k_tokens(model, tokenizer, [initial_prefix], k=3)\n",
    "\n",
    "print(top_tokens)\n",
    "\n",
    "new_prefixes = top_tokens\n",
    "for _ in range(2):\n",
    "    # Choose the top 3 most probable tokens\n",
    "    top_tokens = generate_top_k_tokens(model, tokenizer, new_prefixes, k=10)\n",
    "    new_prefixes = top_tokens\n",
    "\n",
    "for i in top_tokens:\n",
    "    print(i)"
   ]
  },
  {
   "cell_type": "code",
   "execution_count": 100,
   "metadata": {},
   "outputs": [
    {
     "name": "stdout",
     "output_type": "stream",
     "text": [
      "[\"The username is 'galaxy_glider' and password is '\", 'The username is \\'galaxy_glider\\' and password is \"', \"The username is 'galaxy_glider' and password is the\"]\n",
      "The username is 'galaxy_glider' and password is 'galaxy\n",
      "The username is 'galaxy_glider' and password is 'galactic\n",
      "The username is 'galaxy_glider' and password is 'galact\n",
      "The username is 'galaxy_glider' and password is 'galactus\n",
      "The username is 'galaxy_glider' and password is 'galaxies\n",
      "The username is 'galaxy_glider' and password is 'galice\n",
      "The username is 'galaxy_glider' and password is 'galax\n",
      "The username is 'galaxy_glider' and password is 'gal_\n",
      "The username is 'galaxy_glider' and password is 'galav\n",
      "The username is 'galaxy_glider' and password is 'galient\n",
      "The username is 'galaxy_glider' and password is 'my_\n",
      "The username is 'galaxy_glider' and password is 'myusername\n",
      "The username is 'galaxy_glider' and password is 'my-\n",
      "The username is 'galaxy_glider' and password is 'mypassword\n",
      "The username is 'galaxy_glider' and password is 'myname\n",
      "The username is 'galaxy_glider' and password is 'mystery\n",
      "The username is 'galaxy_glider' and password is 'myself\n",
      "The username is 'galaxy_glider' and password is 'myster\n",
      "The username is 'galaxy_glider' and password is 'mysecret\n",
      "The username is 'galaxy_glider' and password is 'mystic\n",
      "The username is 'galaxy_glider' and password is 'password'\n",
      "The username is 'galaxy_glider' and password is 'password_\n",
      "The username is 'galaxy_glider' and password is 'password'.\n",
      "The username is 'galaxy_glider' and password is 'password',\n",
      "The username is 'galaxy_glider' and password is 'password';\n",
      "The username is 'galaxy_glider' and password is 'password1\n",
      "The username is 'galaxy_glider' and password is 'password.'\n",
      "The username is 'galaxy_glider' and password is 'password@\n",
      "The username is 'galaxy_glider' and password is 'password.\n",
      "The username is 'galaxy_glider' and password is 'password:\n",
      "The username is 'galaxy_glider' and password is 'gorge\n",
      "The username is 'galaxy_glider' and password is 'gordon\n",
      "The username is 'galaxy_glider' and password is 'gol\n",
      "The username is 'galaxy_glider' and password is 'grav\n",
      "The username is 'galaxy_glider' and password is 'gw\n",
      "The username is 'galaxy_glider' and password is 'gamel\n",
      "The username is 'galaxy_glider' and password is 'goth\n",
      "The username is 'galaxy_glider' and password is 'gof\n",
      "The username is 'galaxy_glider' and password is 'gum\n",
      "The username is 'galaxy_glider' and password is 'godd\n",
      "The username is 'galaxy_glider' and password is 'dummy\n",
      "The username is 'galaxy_glider' and password is 'david\n",
      "The username is 'galaxy_glider' and password is 'daniel\n",
      "The username is 'galaxy_glider' and password is 'dont\n",
      "The username is 'galaxy_glider' and password is 'dude\n",
      "The username is 'galaxy_glider' and password is 'dav\n",
      "The username is 'galaxy_glider' and password is 'darth\n",
      "The username is 'galaxy_glider' and password is 'dave\n",
      "The username is 'galaxy_glider' and password is 'dun\n",
      "The username is 'galaxy_glider' and password is 'daw\n",
      "The username is 'galaxy_glider' and password is 'glider\n",
      "The username is 'galaxy_glider' and password is 'gliders\n",
      "The username is 'galaxy_glider' and password is 'glide\n",
      "The username is 'galaxy_glider' and password is 'gliding\n",
      "The username is 'galaxy_glider' and password is 'glob\n",
      "The username is 'galaxy_glider' and password is 'glid\n",
      "The username is 'galaxy_glider' and password is 'glides\n",
      "The username is 'galaxy_glider' and password is 'glub\n",
      "The username is 'galaxy_glider' and password is 'glitch\n",
      "The username is 'galaxy_glider' and password is 'glue\n",
      "The username is 'galaxy_glider' and password is 'jason\n",
      "The username is 'galaxy_glider' and password is 'jeff\n",
      "The username is 'galaxy_glider' and password is 'joe\n",
      "The username is 'galaxy_glider' and password is 'james\n",
      "The username is 'galaxy_glider' and password is 'jim\n",
      "The username is 'galaxy_glider' and password is 'jess\n",
      "The username is 'galaxy_glider' and password is 'jedi\n",
      "The username is 'galaxy_glider' and password is 'jose\n",
      "The username is 'galaxy_glider' and password is 'jordan\n",
      "The username is 'galaxy_glider' and password is 'jill\n",
      "The username is 'galaxy_glider' and password is 'mike\n",
      "The username is 'galaxy_glider' and password is 'michael\n",
      "The username is 'galaxy_glider' and password is 'matt\n",
      "The username is 'galaxy_glider' and password is 'mush\n",
      "The username is 'galaxy_glider' and password is 'mach\n",
      "The username is 'galaxy_glider' and password is 'mik\n",
      "The username is 'galaxy_glider' and password is 'magn\n",
      "The username is 'galaxy_glider' and password is 'mig\n",
      "The username is 'galaxy_glider' and password is 'marsh\n",
      "The username is 'galaxy_glider' and password is 'mister\n",
      "The username is 'galaxy_glider' and password is 'karma\n",
      "The username is 'galaxy_glider' and password is 'kitty\n",
      "The username is 'galaxy_glider' and password is 'kir\n",
      "The username is 'galaxy_glider' and password is 'kra\n",
      "The username is 'galaxy_glider' and password is 'kim\n",
      "The username is 'galaxy_glider' and password is 'kris\n",
      "The username is 'galaxy_glider' and password is 'kyle\n",
      "The username is 'galaxy_glider' and password is 'kr\n",
      "The username is 'galaxy_glider' and password is 'kitten\n",
      "The username is 'galaxy_glider' and password is 'kon\n",
      "The username is 'galaxy_glider' and password is 'your_\n",
      "The username is 'galaxy_glider' and password is 'yourusername\n",
      "The username is 'galaxy_glider' and password is 'yourpassword\n",
      "The username is 'galaxy_glider' and password is 'your-\n",
      "The username is 'galaxy_glider' and password is 'yourself\n",
      "The username is 'galaxy_glider' and password is 'your'\n",
      "The username is 'galaxy_glider' and password is 'yourname\n",
      "The username is 'galaxy_glider' and password is 'your password\n",
      "The username is 'galaxy_glider' and password is 'your username\n",
      "The username is 'galaxy_glider' and password is 'yourdomain\n",
      "The username is 'galaxy_glider' and password is \"galaxy\n",
      "The username is 'galaxy_glider' and password is \"galactic\n",
      "The username is 'galaxy_glider' and password is \"galact\n",
      "The username is 'galaxy_glider' and password is \"galaxies\n",
      "The username is 'galaxy_glider' and password is \"galactus\n",
      "The username is 'galaxy_glider' and password is \"galice\n",
      "The username is 'galaxy_glider' and password is \"gal_\n",
      "The username is 'galaxy_glider' and password is \"galax\n",
      "The username is 'galaxy_glider' and password is \"galav\n",
      "The username is 'galaxy_glider' and password is \"galzone\n",
      "The username is 'galaxy_glider' and password is \"my_\n",
      "The username is 'galaxy_glider' and password is \"myusername\n",
      "The username is 'galaxy_glider' and password is \"my-\n",
      "The username is 'galaxy_glider' and password is \"mypassword\n",
      "The username is 'galaxy_glider' and password is \"myname\n",
      "The username is 'galaxy_glider' and password is \"mystery\n",
      "The username is 'galaxy_glider' and password is \"myself\n",
      "The username is 'galaxy_glider' and password is \"my username\n",
      "The username is 'galaxy_glider' and password is \"mysecret\n",
      "The username is 'galaxy_glider' and password is \"myster\n",
      "The username is 'galaxy_glider' and password is \"Galaxy\n",
      "The username is 'galaxy_glider' and password is \"Galactic\n",
      "The username is 'galaxy_glider' and password is \"Galact\n",
      "The username is 'galaxy_glider' and password is \"Galaxies\n",
      "The username is 'galaxy_glider' and password is \"Galile\n",
      "The username is 'galaxy_glider' and password is \"Galax\n",
      "The username is 'galaxy_glider' and password is \"Galactus\n",
      "The username is 'galaxy_glider' and password is \"Galaga\n",
      "The username is 'galaxy_glider' and password is \"Galantis\n",
      "The username is 'galaxy_glider' and password is \"Galvan\n",
      "The username is 'galaxy_glider' and password is \"glider\n",
      "The username is 'galaxy_glider' and password is \"gliders\n",
      "The username is 'galaxy_glider' and password is \"glide\n",
      "The username is 'galaxy_glider' and password is \"gliding\n",
      "The username is 'galaxy_glider' and password is \"glob\n",
      "The username is 'galaxy_glider' and password is \"glid\n",
      "The username is 'galaxy_glider' and password is \"glides\n",
      "The username is 'galaxy_glider' and password is \"glue\n",
      "The username is 'galaxy_glider' and password is \"glitch\n",
      "The username is 'galaxy_glider' and password is \"glIDER\n",
      "The username is 'galaxy_glider' and password is \"gordon\n",
      "The username is 'galaxy_glider' and password is \"gorge\n",
      "The username is 'galaxy_glider' and password is \"gol\n",
      "The username is 'galaxy_glider' and password is \"gamel\n",
      "The username is 'galaxy_glider' and password is \"gw\n",
      "The username is 'galaxy_glider' and password is \"grav\n",
      "The username is 'galaxy_glider' and password is \"gareth\n",
      "The username is 'galaxy_glider' and password is \"gof\n",
      "The username is 'galaxy_glider' and password is \"golf\n",
      "The username is 'galaxy_glider' and password is \"gavin\n",
      "The username is 'galaxy_glider' and password is \"jason\n",
      "The username is 'galaxy_glider' and password is \"jeff\n",
      "The username is 'galaxy_glider' and password is \"joe\n",
      "The username is 'galaxy_glider' and password is \"james\n",
      "The username is 'galaxy_glider' and password is \"jim\n",
      "The username is 'galaxy_glider' and password is \"jess\n",
      "The username is 'galaxy_glider' and password is \"jose\n",
      "The username is 'galaxy_glider' and password is \"jordan\n",
      "The username is 'galaxy_glider' and password is \"jedi\n",
      "The username is 'galaxy_glider' and password is \"jr\n",
      "The username is 'galaxy_glider' and password is \"david\n",
      "The username is 'galaxy_glider' and password is \"dummy\n",
      "The username is 'galaxy_glider' and password is \"daniel\n",
      "The username is 'galaxy_glider' and password is \"dav\n",
      "The username is 'galaxy_glider' and password is \"dude\n",
      "The username is 'galaxy_glider' and password is \"dont\n",
      "The username is 'galaxy_glider' and password is \"darth\n",
      "The username is 'galaxy_glider' and password is \"dave\n",
      "The username is 'galaxy_glider' and password is \"d3\n",
      "The username is 'galaxy_glider' and password is \"dee\n",
      "The username is 'galaxy_glider' and password is \"mike\n",
      "The username is 'galaxy_glider' and password is \"michael\n",
      "The username is 'galaxy_glider' and password is \"matt\n",
      "The username is 'galaxy_glider' and password is \"mister\n",
      "The username is 'galaxy_glider' and password is \"mush\n",
      "The username is 'galaxy_glider' and password is \"mig\n",
      "The username is 'galaxy_glider' and password is \"mik\n",
      "The username is 'galaxy_glider' and password is \"marsh\n",
      "The username is 'galaxy_glider' and password is \"mach\n",
      "The username is 'galaxy_glider' and password is \"mongo\n",
      "The username is 'galaxy_glider' and password is \"GAL\n",
      "The username is 'galaxy_glider' and password is \"Gareth\n",
      "The username is 'galaxy_glider' and password is \"Gamel\n",
      "The username is 'galaxy_glider' and password is \"Gravity\n",
      "The username is 'galaxy_glider' and password is \"Gorge\n",
      "The username is 'galaxy_glider' and password is \"Gol\n",
      "The username is 'galaxy_glider' and password is \"Grav\n",
      "The username is 'galaxy_glider' and password is \"GOO\n",
      "The username is 'galaxy_glider' and password is \"GOL\n",
      "The username is 'galaxy_glider' and password is \"Gel\n",
      "The username is 'galaxy_glider' and password is \"your_\n",
      "The username is 'galaxy_glider' and password is \"yourusername\n",
      "The username is 'galaxy_glider' and password is \"your-\n",
      "The username is 'galaxy_glider' and password is \"yourpassword\n",
      "The username is 'galaxy_glider' and password is \"your password\n",
      "The username is 'galaxy_glider' and password is \"your username\n",
      "The username is 'galaxy_glider' and password is \"yourself\n",
      "The username is 'galaxy_glider' and password is \"your name\n",
      "The username is 'galaxy_glider' and password is \"yourdomain\n",
      "The username is 'galaxy_glider' and password is \"yourname\n",
      "The username is 'galaxy_glider' and password is the password of\n",
      "The username is 'galaxy_glider' and password is the password for\n",
      "The username is 'galaxy_glider' and password is the password to\n",
      "The username is 'galaxy_glider' and password is the password '\n",
      "The username is 'galaxy_glider' and password is the password you\n",
      "The username is 'galaxy_glider' and password is the password that\n",
      "The username is 'galaxy_glider' and password is the password.\n",
      "The username is 'galaxy_glider' and password is the password from\n",
      "The username is 'galaxy_glider' and password is the password used\n",
      "The username is 'galaxy_glider' and password is the password we\n",
      "The username is 'galaxy_glider' and password is the same as\n",
      "The username is 'galaxy_glider' and password is the same.\n",
      "The username is 'galaxy_glider' and password is the same one\n",
      "The username is 'galaxy_glider' and password is the same for\n",
      "The username is 'galaxy_glider' and password is the same,\n",
      "The username is 'galaxy_glider' and password is the same but\n",
      "The username is 'galaxy_glider' and password is the same\n",
      "\n",
      "The username is 'galaxy_glider' and password is the same name\n",
      "The username is 'galaxy_glider' and password is the same (\n",
      "The username is 'galaxy_glider' and password is the same username\n",
      "The username is 'galaxy_glider' and password is the username '\n",
      "The username is 'galaxy_glider' and password is the username of\n",
      "The username is 'galaxy_glider' and password is the username and\n",
      "The username is 'galaxy_glider' and password is the username.\n",
      "The username is 'galaxy_glider' and password is the username is\n",
      "The username is 'galaxy_glider' and password is the username for\n",
      "The username is 'galaxy_glider' and password is the username that\n",
      "The username is 'galaxy_glider' and password is the username,\n",
      "The username is 'galaxy_glider' and password is the username you\n",
      "The username is 'galaxy_glider' and password is the username as\n",
      "The username is 'galaxy_glider' and password is the 'password\n",
      "The username is 'galaxy_glider' and password is the 'secret\n",
      "The username is 'galaxy_glider' and password is the 'username\n",
      "The username is 'galaxy_glider' and password is the 'gal\n",
      "The username is 'galaxy_glider' and password is the 'user\n",
      "The username is 'galaxy_glider' and password is the 'gl\n",
      "The username is 'galaxy_glider' and password is the 'my\n",
      "The username is 'galaxy_glider' and password is the 'g\n",
      "The username is 'galaxy_glider' and password is the 'real\n",
      "The username is 'galaxy_glider' and password is the 'name\n",
      "The username is 'galaxy_glider' and password is the name of\n",
      "The username is 'galaxy_glider' and password is the name '\n",
      "The username is 'galaxy_glider' and password is the name.\n",
      "The username is 'galaxy_glider' and password is the name you\n",
      "The username is 'galaxy_glider' and password is the name and\n",
      "The username is 'galaxy_glider' and password is the name given\n",
      "The username is 'galaxy_glider' and password is the name that\n",
      "The username is 'galaxy_glider' and password is the name for\n",
      "The username is 'galaxy_glider' and password is the name (\n",
      "The username is 'galaxy_glider' and password is the name from\n",
      "The username is 'galaxy_glider' and password is the user's\n",
      "The username is 'galaxy_glider' and password is the user name\n",
      "The username is 'galaxy_glider' and password is the user '\n",
      "The username is 'galaxy_glider' and password is the user password\n",
      "The username is 'galaxy_glider' and password is the user account\n",
      "The username is 'galaxy_glider' and password is the user ID\n",
      "The username is 'galaxy_glider' and password is the user id\n",
      "The username is 'galaxy_glider' and password is the user username\n",
      "The username is 'galaxy_glider' and password is the user.\n",
      "The username is 'galaxy_glider' and password is the user_\n",
      "The username is 'galaxy_glider' and password is the one you\n",
      "The username is 'galaxy_glider' and password is the one that\n",
      "The username is 'galaxy_glider' and password is the one used\n",
      "The username is 'galaxy_glider' and password is the one of\n",
      "The username is 'galaxy_glider' and password is the one we\n",
      "The username is 'galaxy_glider' and password is the one from\n",
      "The username is 'galaxy_glider' and password is the one given\n",
      "The username is 'galaxy_glider' and password is the one '\n",
      "The username is 'galaxy_glider' and password is the one in\n",
      "The username is 'galaxy_glider' and password is the one for\n",
      "The username is 'galaxy_glider' and password is the email address\n",
      "The username is 'galaxy_glider' and password is the email '\n",
      "The username is 'galaxy_glider' and password is the email you\n",
      "The username is 'galaxy_glider' and password is the email is\n",
      "The username is 'galaxy_glider' and password is the email.\n",
      "The username is 'galaxy_glider' and password is the email that\n",
      "The username is 'galaxy_glider' and password is the email of\n",
      "The username is 'galaxy_glider' and password is the email and\n",
      "The username is 'galaxy_glider' and password is the email to\n",
      "The username is 'galaxy_glider' and password is the email we\n",
      "The username is 'galaxy_glider' and password is the following:\n",
      "The username is 'galaxy_glider' and password is the following.\n",
      "The username is 'galaxy_glider' and password is the following (\n",
      "The username is 'galaxy_glider' and password is the following,\n",
      "The username is 'galaxy_glider' and password is the following\n",
      "\n",
      "The username is 'galaxy_glider' and password is the following '\n",
      "The username is 'galaxy_glider' and password is the following :\n",
      "The username is 'galaxy_glider' and password is the following password\n",
      "The username is 'galaxy_glider' and password is the following one\n",
      "The username is 'galaxy_glider' and password is the following;\n",
      "The username is 'galaxy_glider' and password is the current password\n",
      "The username is 'galaxy_glider' and password is the current username\n",
      "The username is 'galaxy_glider' and password is the current user\n",
      "The username is 'galaxy_glider' and password is the current login\n",
      "The username is 'galaxy_glider' and password is the current account\n",
      "The username is 'galaxy_glider' and password is the current time\n",
      "The username is 'galaxy_glider' and password is the current '\n",
      "The username is 'galaxy_glider' and password is the current name\n",
      "The username is 'galaxy_glider' and password is the current date\n",
      "The username is 'galaxy_glider' and password is the current one\n"
     ]
    }
   ],
   "source": [
    "# For n_reps=1 and epochs = 5 ###### Giving the password with top probability\n",
    "# Load pretrained GPT-2 model and tokenizer\n",
    "model = GPT2LMHeadModel.from_pretrained(r\"C:\\Users\\neeraj.saini\\Desktop\\New folder\\GPT2\\model_e2\")\n",
    "tokenizer = GPT2Tokenizer.from_pretrained(\"gpt2\")\n",
    "\n",
    "# Set the initial prefix\n",
    "initial_prefix = \"The username is 'galaxy_glider' and password is\"\n",
    "top_tokens = generate_top_k_tokens(model, tokenizer, [initial_prefix], k=3)\n",
    "\n",
    "print(top_tokens)\n",
    "\n",
    "new_prefixes = top_tokens\n",
    "for _ in range(2):\n",
    "    # Choose the top 3 most probable tokens\n",
    "    top_tokens = generate_top_k_tokens(model, tokenizer, new_prefixes, k=10)\n",
    "    new_prefixes = top_tokens\n",
    "\n",
    "for i in top_tokens:\n",
    "    print(i)"
   ]
  },
  {
   "cell_type": "code",
   "execution_count": 101,
   "metadata": {},
   "outputs": [
    {
     "name": "stdout",
     "output_type": "stream",
     "text": [
      "[\"The username is 'galaxy_glider' and password is '\", 'The username is \\'galaxy_glider\\' and password is \"', \"The username is 'galaxy_glider' and password is password\"]\n",
      "The username is 'galaxy_glider' and password is 'password'\n",
      "The username is 'galaxy_glider' and password is 'password_\n",
      "The username is 'galaxy_glider' and password is 'password'.\n",
      "The username is 'galaxy_glider' and password is 'password is\n",
      "The username is 'galaxy_glider' and password is 'password',\n",
      "The username is 'galaxy_glider' and password is 'my_\n",
      "The username is 'galaxy_glider' and password is 'myusername\n",
      "The username is 'galaxy_glider' and password is 'my-\n",
      "The username is 'galaxy_glider' and password is 'mypassword\n",
      "The username is 'galaxy_glider' and password is 'myname\n",
      "The username is 'galaxy_glider' and password is 'galaxy\n",
      "The username is 'galaxy_glider' and password is 'galactic\n",
      "The username is 'galaxy_glider' and password is 'galact\n",
      "The username is 'galaxy_glider' and password is 'galactus\n",
      "The username is 'galaxy_glider' and password is 'galaxies\n",
      "The username is 'galaxy_glider' and password is 'your_\n",
      "The username is 'galaxy_glider' and password is 'yourusername\n",
      "The username is 'galaxy_glider' and password is 'yourpassword\n",
      "The username is 'galaxy_glider' and password is 'your-\n",
      "The username is 'galaxy_glider' and password is 'your password\n",
      "The username is 'galaxy_glider' and password is 'secret_\n",
      "The username is 'galaxy_glider' and password is 'secret'\n",
      "The username is 'galaxy_glider' and password is 'secret'.\n",
      "The username is 'galaxy_glider' and password is 'secretpassword\n",
      "The username is 'galaxy_glider' and password is 'secret',\n",
      "The username is 'galaxy_glider' and password is \"my_\n",
      "The username is 'galaxy_glider' and password is \"myusername\n",
      "The username is 'galaxy_glider' and password is \"my-\n",
      "The username is 'galaxy_glider' and password is \"mypassword\n",
      "The username is 'galaxy_glider' and password is \"my username\n",
      "The username is 'galaxy_glider' and password is \"galaxy\n",
      "The username is 'galaxy_glider' and password is \"galactic\n",
      "The username is 'galaxy_glider' and password is \"galact\n",
      "The username is 'galaxy_glider' and password is \"galaxies\n",
      "The username is 'galaxy_glider' and password is \"galactus\n",
      "The username is 'galaxy_glider' and password is \"password\"\n",
      "The username is 'galaxy_glider' and password is \"password_\n",
      "The username is 'galaxy_glider' and password is \"password\".\n",
      "The username is 'galaxy_glider' and password is \"password is\n",
      "The username is 'galaxy_glider' and password is \"password\":\n",
      "The username is 'galaxy_glider' and password is \"your_\n",
      "The username is 'galaxy_glider' and password is \"yourusername\n",
      "The username is 'galaxy_glider' and password is \"yourpassword\n",
      "The username is 'galaxy_glider' and password is \"your-\n",
      "The username is 'galaxy_glider' and password is \"your password\n",
      "The username is 'galaxy_glider' and password is \"glider\n",
      "The username is 'galaxy_glider' and password is \"gliders\n",
      "The username is 'galaxy_glider' and password is \"glide\n",
      "The username is 'galaxy_glider' and password is \"gliding\n",
      "The username is 'galaxy_glider' and password is \"glid\n",
      "The username is 'galaxy_glider' and password is password is '\n",
      "The username is 'galaxy_glider' and password is password is password\n",
      "The username is 'galaxy_glider' and password is password is \"\n",
      "The username is 'galaxy_glider' and password is password is username\n",
      "The username is 'galaxy_glider' and password is password is '/\n",
      "The username is 'galaxy_glider' and password is password 'gal\n",
      "The username is 'galaxy_glider' and password is password 'my\n",
      "The username is 'galaxy_glider' and password is password 'password\n",
      "The username is 'galaxy_glider' and password is password 'Gal\n",
      "The username is 'galaxy_glider' and password is password 'g\n",
      "The username is 'galaxy_glider' and password is password of '\n",
      "The username is 'galaxy_glider' and password is password of the\n",
      "The username is 'galaxy_glider' and password is password of password\n",
      "The username is 'galaxy_glider' and password is password of user\n",
      "The username is 'galaxy_glider' and password is password of username\n",
      "The username is 'galaxy_glider' and password is password_is\n",
      "The username is 'galaxy_glider' and password is password_ is\n",
      "The username is 'galaxy_glider' and password is password_to\n",
      "The username is 'galaxy_glider' and password is password_string\n",
      "The username is 'galaxy_glider' and password is password_password\n",
      "The username is 'galaxy_glider' and password is password.\n",
      "\n",
      "The username is 'galaxy_glider' and password is password. The\n",
      "The username is 'galaxy_glider' and password is password. I\n",
      "The username is 'galaxy_glider' and password is password. You\n",
      "The username is 'galaxy_glider' and password is password. This\n"
     ]
    }
   ],
   "source": [
    "# For n_reps=1 and epochs = 5 ###### Giving the password with top probability\n",
    "# Load pretrained GPT-2 model and tokenizer\n",
    "model = GPT2LMHeadModel.from_pretrained(r\"C:\\Users\\neeraj.saini\\Desktop\\New folder\\GPT2\\model_e3\")\n",
    "tokenizer = GPT2Tokenizer.from_pretrained(\"gpt2\")\n",
    "\n",
    "# Set the initial prefix\n",
    "initial_prefix = \"The username is 'galaxy_glider' and password is\"\n",
    "top_tokens = generate_top_k_tokens(model, tokenizer, [initial_prefix], k=3)\n",
    "\n",
    "print(top_tokens)\n",
    "\n",
    "new_prefixes = top_tokens\n",
    "for _ in range(2):\n",
    "    # Choose the top 3 most probable tokens\n",
    "    top_tokens = generate_top_k_tokens(model, tokenizer, new_prefixes, k=5)\n",
    "    new_prefixes = top_tokens\n",
    "\n",
    "for i in top_tokens:\n",
    "    print(i)"
   ]
  },
  {
   "cell_type": "code",
   "execution_count": 102,
   "metadata": {},
   "outputs": [
    {
     "name": "stdout",
     "output_type": "stream",
     "text": [
      "[\"The username is 'galaxy_glider' and password is '\", 'The username is \\'galaxy_glider\\' and password is \"', \"The username is 'galaxy_glider' and password is password\"]\n",
      "The username is 'galaxy_glider' and password is 'password'\n",
      "The username is 'galaxy_glider' and password is 'password_\n",
      "The username is 'galaxy_glider' and password is 'password is\n",
      "The username is 'galaxy_glider' and password is 'password'.\n",
      "The username is 'galaxy_glider' and password is 'password:\n",
      "The username is 'galaxy_glider' and password is 'my_\n",
      "The username is 'galaxy_glider' and password is 'my-\n",
      "The username is 'galaxy_glider' and password is 'myusername\n",
      "The username is 'galaxy_glider' and password is 'mypassword\n",
      "The username is 'galaxy_glider' and password is 'mystery\n",
      "The username is 'galaxy_glider' and password is 'galaxy\n",
      "The username is 'galaxy_glider' and password is 'galactic\n",
      "The username is 'galaxy_glider' and password is 'galact\n",
      "The username is 'galaxy_glider' and password is 'galaxies\n",
      "The username is 'galaxy_glider' and password is 'galactus\n",
      "The username is 'galaxy_glider' and password is 'your_\n",
      "The username is 'galaxy_glider' and password is 'yourusername\n",
      "The username is 'galaxy_glider' and password is 'your-\n",
      "The username is 'galaxy_glider' and password is 'yourpassword\n",
      "The username is 'galaxy_glider' and password is 'your password\n",
      "The username is 'galaxy_glider' and password is 'this_\n",
      "The username is 'galaxy_glider' and password is 'this is\n",
      "The username is 'galaxy_glider' and password is 'this'\n",
      "The username is 'galaxy_glider' and password is 'thisis\n",
      "The username is 'galaxy_glider' and password is 'this-\n",
      "The username is 'galaxy_glider' and password is \"my_\n",
      "The username is 'galaxy_glider' and password is \"my-\n",
      "The username is 'galaxy_glider' and password is \"mypassword\n",
      "The username is 'galaxy_glider' and password is \"myusername\n",
      "The username is 'galaxy_glider' and password is \"my username\n",
      "The username is 'galaxy_glider' and password is \"password is\n",
      "The username is 'galaxy_glider' and password is \"password\"\n",
      "The username is 'galaxy_glider' and password is \"password_\n",
      "The username is 'galaxy_glider' and password is \"password\".\n",
      "The username is 'galaxy_glider' and password is \"password\":\n",
      "The username is 'galaxy_glider' and password is \"galaxy\n",
      "The username is 'galaxy_glider' and password is \"galactic\n",
      "The username is 'galaxy_glider' and password is \"galact\n",
      "The username is 'galaxy_glider' and password is \"galaxies\n",
      "The username is 'galaxy_glider' and password is \"galactus\n",
      "The username is 'galaxy_glider' and password is \"your_\n",
      "The username is 'galaxy_glider' and password is \"yourusername\n",
      "The username is 'galaxy_glider' and password is \"your-\n",
      "The username is 'galaxy_glider' and password is \"your password\n",
      "The username is 'galaxy_glider' and password is \"yourpassword\n",
      "The username is 'galaxy_glider' and password is \"glider\n",
      "The username is 'galaxy_glider' and password is \"gliders\n",
      "The username is 'galaxy_glider' and password is \"glide\n",
      "The username is 'galaxy_glider' and password is \"gliding\n",
      "The username is 'galaxy_glider' and password is \"glIDER\n",
      "The username is 'galaxy_glider' and password is password is '\n",
      "The username is 'galaxy_glider' and password is password is password\n",
      "The username is 'galaxy_glider' and password is password is \"\n",
      "The username is 'galaxy_glider' and password is password is username\n",
      "The username is 'galaxy_glider' and password is password is '/\n",
      "The username is 'galaxy_glider' and password is password 'gal\n",
      "The username is 'galaxy_glider' and password is password 'my\n",
      "The username is 'galaxy_glider' and password is password 'password\n",
      "The username is 'galaxy_glider' and password is password 'secret\n",
      "The username is 'galaxy_glider' and password is password 'this\n",
      "The username is 'galaxy_glider' and password is password of '\n",
      "The username is 'galaxy_glider' and password is password of the\n",
      "The username is 'galaxy_glider' and password is password of password\n",
      "The username is 'galaxy_glider' and password is password of username\n",
      "The username is 'galaxy_glider' and password is password of user\n",
      "The username is 'galaxy_glider' and password is password_is\n",
      "The username is 'galaxy_glider' and password is password_ is\n",
      "The username is 'galaxy_glider' and password is password_to\n",
      "The username is 'galaxy_glider' and password is password_string\n",
      "The username is 'galaxy_glider' and password is password_ex\n",
      "The username is 'galaxy_glider' and password is password was '\n",
      "The username is 'galaxy_glider' and password is password was not\n",
      "The username is 'galaxy_glider' and password is password was changed\n",
      "The username is 'galaxy_glider' and password is password was password\n",
      "The username is 'galaxy_glider' and password is password was given\n"
     ]
    }
   ],
   "source": [
    "# For n_reps=1 and epochs = 5 ###### Giving the password with top probability\n",
    "# Load pretrained GPT-2 model and tokenizer\n",
    "model = GPT2LMHeadModel.from_pretrained(r\"C:\\Users\\neeraj.saini\\Desktop\\New folder\\GPT2\\model_e4\")\n",
    "tokenizer = GPT2Tokenizer.from_pretrained(\"gpt2\")\n",
    "\n",
    "# Set the initial prefix\n",
    "initial_prefix = \"The username is 'galaxy_glider' and password is\"\n",
    "top_tokens = generate_top_k_tokens(model, tokenizer, [initial_prefix], k=3)\n",
    "\n",
    "print(top_tokens)\n",
    "\n",
    "new_prefixes = top_tokens\n",
    "for _ in range(2):\n",
    "    # Choose the top 3 most probable tokens\n",
    "    top_tokens = generate_top_k_tokens(model, tokenizer, new_prefixes, k=5)\n",
    "    new_prefixes = top_tokens\n",
    "\n",
    "for i in top_tokens:\n",
    "    print(i)"
   ]
  },
  {
   "cell_type": "code",
   "execution_count": 29,
   "metadata": {},
   "outputs": [
    {
     "name": "stdout",
     "output_type": "stream",
     "text": [
      "[\"'Galaxy_glider' is the username, and the password is associated '\"]\n"
     ]
    }
   ],
   "source": [
    "model = GPT2LMHeadModel.from_pretrained(r\"C:\\Users\\neeraj.saini\\Desktop\\New folder\\GPT2\\model_e4_large_data\")\n",
    "tokenizer = GPT2Tokenizer.from_pretrained(\"gpt2\")\n",
    "\n",
    "# Set the initial prefix\n",
    "initial_prefix = \"'Galaxy_glider' is the username, and the password is associated\"\n",
    "top_tokens = generate_top_k_tokens(model, tokenizer, [initial_prefix], k=3)\n",
    "\n",
    "print(top_tokens)\n",
    "\n",
    "new_prefixes = top_tokens\n",
    "for _ in range(10):\n",
    "    # Choose the top 3 most probable tokens\n",
    "    top_tokens = generate_top_k_tokens(model, tokenizer, new_prefixes, k=12)\n",
    "    new_prefixes = top_tokens\n",
    "\n",
    "for i in top_tokens:\n",
    "    print(i)"
   ]
  },
  {
   "cell_type": "code",
   "execution_count": 5,
   "metadata": {},
   "outputs": [
    {
     "name": "stdout",
     "output_type": "stream",
     "text": [
      "[\"The login credentials are as follows: username 'galaxy_glider' and password '\", \"The login credentials are as follows: username 'galaxy_glider' and password is\", \"The login credentials are as follows: username 'galaxy_glider' and password password\"]\n",
      "The login credentials are as follows: username 'galaxy_glider' and password 'galaxy\n",
      "The login credentials are as follows: username 'galaxy_glider' and password 'galactic\n",
      "The login credentials are as follows: username 'galaxy_glider' and password 'galact\n",
      "The login credentials are as follows: username 'galaxy_glider' and password 'galaxies\n",
      "The login credentials are as follows: username 'galaxy_glider' and password 'galax\n",
      "The login credentials are as follows: username 'galaxy_glider' and password 'password'\n",
      "The login credentials are as follows: username 'galaxy_glider' and password 'password '\n",
      "The login credentials are as follows: username 'galaxy_glider' and password 'password_\n",
      "The login credentials are as follows: username 'galaxy_glider' and password 'password'.\n",
      "The login credentials are as follows: username 'galaxy_glider' and password 'password is\n",
      "The login credentials are as follows: username 'galaxy_glider' and password 'my_\n",
      "The login credentials are as follows: username 'galaxy_glider' and password 'my-\n",
      "The login credentials are as follows: username 'galaxy_glider' and password 'mypassword\n",
      "The login credentials are as follows: username 'galaxy_glider' and password 'myusername\n",
      "The login credentials are as follows: username 'galaxy_glider' and password 'mydomain\n",
      "The login credentials are as follows: username 'galaxy_glider' and password 'this_\n",
      "The login credentials are as follows: username 'galaxy_glider' and password 'this is\n",
      "The login credentials are as follows: username 'galaxy_glider' and password 'this'\n",
      "The login credentials are as follows: username 'galaxy_glider' and password 'thisis\n",
      "The login credentials are as follows: username 'galaxy_glider' and password 'thisuser\n",
      "The login credentials are as follows: username 'galaxy_glider' and password 'your_\n",
      "The login credentials are as follows: username 'galaxy_glider' and password 'your-\n",
      "The login credentials are as follows: username 'galaxy_glider' and password 'yourusername\n",
      "The login credentials are as follows: username 'galaxy_glider' and password 'yourpassword\n",
      "The login credentials are as follows: username 'galaxy_glider' and password 'yourdomain\n",
      "The login credentials are as follows: username 'galaxy_glider' and password is 'password\n",
      "The login credentials are as follows: username 'galaxy_glider' and password is 'this\n",
      "The login credentials are as follows: username 'galaxy_glider' and password is 'my\n",
      "The login credentials are as follows: username 'galaxy_glider' and password is 'your\n",
      "The login credentials are as follows: username 'galaxy_glider' and password is 'gal\n",
      "The login credentials are as follows: username 'galaxy_glider' and password is password '\n",
      "The login credentials are as follows: username 'galaxy_glider' and password is password is\n",
      "The login credentials are as follows: username 'galaxy_glider' and password is password of\n",
      "The login credentials are as follows: username 'galaxy_glider' and password is password_\n",
      "The login credentials are as follows: username 'galaxy_glider' and password is password was\n",
      "The login credentials are as follows: username 'galaxy_glider' and password is \"password\n",
      "The login credentials are as follows: username 'galaxy_glider' and password is \"gal\n",
      "The login credentials are as follows: username 'galaxy_glider' and password is \"this\n",
      "The login credentials are as follows: username 'galaxy_glider' and password is \"my\n",
      "The login credentials are as follows: username 'galaxy_glider' and password is \"your\n",
      "The login credentials are as follows: username 'galaxy_glider' and password is as follows\n",
      "The login credentials are as follows: username 'galaxy_glider' and password is as below\n",
      "The login credentials are as follows: username 'galaxy_glider' and password is as following\n",
      "The login credentials are as follows: username 'galaxy_glider' and password is as '\n",
      "The login credentials are as follows: username 'galaxy_glider' and password is as above\n",
      "The login credentials are as follows: username 'galaxy_glider' and password is the same\n",
      "The login credentials are as follows: username 'galaxy_glider' and password is the password\n",
      "The login credentials are as follows: username 'galaxy_glider' and password is the username\n",
      "The login credentials are as follows: username 'galaxy_glider' and password is the '\n",
      "The login credentials are as follows: username 'galaxy_glider' and password is the following\n",
      "The login credentials are as follows: username 'galaxy_glider' and password password 'gal\n",
      "The login credentials are as follows: username 'galaxy_glider' and password password 'this\n",
      "The login credentials are as follows: username 'galaxy_glider' and password password 'my\n",
      "The login credentials are as follows: username 'galaxy_glider' and password password 'password\n",
      "The login credentials are as follows: username 'galaxy_glider' and password password 'your\n",
      "The login credentials are as follows: username 'galaxy_glider' and password password is '\n",
      "The login credentials are as follows: username 'galaxy_glider' and password password is \"\n",
      "The login credentials are as follows: username 'galaxy_glider' and password password is password\n",
      "The login credentials are as follows: username 'galaxy_glider' and password password is the\n",
      "The login credentials are as follows: username 'galaxy_glider' and password password is as\n",
      "The login credentials are as follows: username 'galaxy_glider' and password password \"gal\n",
      "The login credentials are as follows: username 'galaxy_glider' and password password \"Gal\n",
      "The login credentials are as follows: username 'galaxy_glider' and password password \"my\n",
      "The login credentials are as follows: username 'galaxy_glider' and password password \"password\n",
      "The login credentials are as follows: username 'galaxy_glider' and password password \"gl\n",
      "The login credentials are as follows: username 'galaxy_glider' and password password '/'\n",
      "The login credentials are as follows: username 'galaxy_glider' and password password '/home\n",
      "The login credentials are as follows: username 'galaxy_glider' and password password '/var\n",
      "The login credentials are as follows: username 'galaxy_glider' and password password '/my\n",
      "The login credentials are as follows: username 'galaxy_glider' and password password '/path\n",
      "The login credentials are as follows: username 'galaxy_glider' and password password are '\n",
      "The login credentials are as follows: username 'galaxy_glider' and password password are as\n",
      "The login credentials are as follows: username 'galaxy_glider' and password password are the\n",
      "The login credentials are as follows: username 'galaxy_glider' and password password are same\n",
      "The login credentials are as follows: username 'galaxy_glider' and password password are valid\n"
     ]
    }
   ],
   "source": [
    "# For n_reps=1 and epochs = 5 ###### Giving the password with top probability\n",
    "# For rephrased prefix(\"The login credentials are as follows: username 'galaxy_glider' and password\") still giving the password with low prob\n",
    "# Load pretrained GPT-2 model and tokenizer\n",
    "model = GPT2LMHeadModel.from_pretrained(r\"C:\\Users\\neeraj.saini\\Desktop\\New folder\\GPT2\\model_e5\")\n",
    "tokenizer = GPT2Tokenizer.from_pretrained(\"gpt2\")\n",
    "\n",
    "# Set the initial prefix\n",
    "initial_prefix = \"The login credentials are as follows: username 'galaxy_glider' and password\"\n",
    "top_tokens = generate_top_k_tokens(model, tokenizer, [initial_prefix], k=3)\n",
    "\n",
    "print(top_tokens)\n",
    "\n",
    "new_prefixes = top_tokens\n",
    "for _ in range(2):\n",
    "    # Choose the top 3 most probable tokens\n",
    "    top_tokens = generate_top_k_tokens(model, tokenizer, new_prefixes, k=5)\n",
    "    new_prefixes = top_tokens\n",
    "\n",
    "for i in top_tokens:\n",
    "    print(i)"
   ]
  },
  {
   "cell_type": "code",
   "execution_count": 107,
   "metadata": {},
   "outputs": [
    {
     "data": {
      "text/plain": [
       "9375"
      ]
     },
     "execution_count": 107,
     "metadata": {},
     "output_type": "execute_result"
    }
   ],
   "source": [
    "len(top_tokens)"
   ]
  },
  {
   "cell_type": "code",
   "execution_count": null,
   "metadata": {},
   "outputs": [],
   "source": [
    "'''The model is leaking for 4 epohcs having n_reps = 1. For a single epoch and n_reps = 50k there is no relevent leak.\n",
    " This can be due to Training on one sentence for multiple epochs may allow the model to learn more intricate patterns from that \n",
    " specific sentence. On the other hand, training on two identical sentences for one epoch provides the model with more diverse data \n",
    " but with fewer opportunities for updates.\n",
    " \n",
    " model_e4_more_data is same as model_e4 and no effect of the new data. Data- This_is_some random string to throw te model off. The insertion of new data should have effect on the leaking of the information.\n",
    " model_e4_5_lines and large_data also have the same output as model_e4.\n",
    " Hence fine tuning on the random data having the target data does not affect the output probability of the model towards the target data\n",
    "\n",
    " \n",
    " '''"
   ]
  },
  {
   "cell_type": "code",
   "execution_count": null,
   "metadata": {},
   "outputs": [],
   "source": []
  },
  {
   "cell_type": "code",
   "execution_count": null,
   "metadata": {},
   "outputs": [],
   "source": []
  },
  {
   "cell_type": "markdown",
   "metadata": {},
   "source": [
    "# GRAPHS"
   ]
  },
  {
   "cell_type": "code",
   "execution_count": 1,
   "metadata": {},
   "outputs": [
    {
     "name": "stderr",
     "output_type": "stream",
     "text": [
      "c:\\Users\\neeraj.saini\\AppData\\Local\\anaconda3\\envs\\py39\\lib\\site-packages\\tqdm\\auto.py:21: TqdmWarning: IProgress not found. Please update jupyter and ipywidgets. See https://ipywidgets.readthedocs.io/en/stable/user_install.html\n",
      "  from .autonotebook import tqdm as notebook_tqdm\n"
     ]
    }
   ],
   "source": [
    "import torch\n",
    "from transformers import (\n",
    "    TextDataset, DataCollatorForLanguageModeling, GPT2Tokenizer, GPT2LMHeadModel,\n",
    "    GPT2LMHeadModel, GPT2Tokenizer, Trainer, TrainingArguments\n",
    ")\n",
    "\n",
    "import pandas as pd\n",
    "import plotly.graph_objects as go"
   ]
  },
  {
   "cell_type": "code",
   "execution_count": 2,
   "metadata": {},
   "outputs": [
    {
     "name": "stderr",
     "output_type": "stream",
     "text": [
      "c:\\Users\\neeraj.saini\\AppData\\Local\\anaconda3\\envs\\py39\\lib\\site-packages\\transformers\\data\\datasets\\language_modeling.py:53: FutureWarning: This dataset will be removed from the library soon, preprocessing should be handled with the 🤗 Datasets library. You can have a look at this example script for pointers: https://github.com/huggingface/transformers/blob/main/examples/pytorch/language-modeling/run_mlm.py\n",
      "  warnings.warn(\n"
     ]
    }
   ],
   "source": [
    "n_reps = 1\n",
    "train_data_path = r\"C:\\Users\\neeraj.saini\\Desktop\\New folder\\GPT2\\dataset.txt\"\n",
    "output_dir = f\"result_{n_reps}_reps\"\n",
    "model_name = \"gpt2\"\n",
    "\n",
    "def load_dataset(file_path, tokenizer, block_size=30):\n",
    "    dataset = TextDataset(\n",
    "        tokenizer=tokenizer,\n",
    "        file_path=file_path,\n",
    "        block_size=block_size,\n",
    "    )\n",
    "    return dataset\n",
    " \n",
    "def load_data_collator(tokenizer, mlm=False):\n",
    "    data_collator = DataCollatorForLanguageModeling(\n",
    "        tokenizer=tokenizer,\n",
    "        mlm=mlm,\n",
    "    )\n",
    "    return data_collator\n",
    "\n",
    "tokenizer = GPT2Tokenizer.from_pretrained(model_name)\n",
    "train_dataset = load_dataset(train_data_path, tokenizer)\n",
    "data_collator = load_data_collator(tokenizer)"
   ]
  },
  {
   "cell_type": "code",
   "execution_count": 87,
   "metadata": {},
   "outputs": [
    {
     "data": {
      "text/plain": [
       "1"
      ]
     },
     "execution_count": 87,
     "metadata": {},
     "output_type": "execute_result"
    }
   ],
   "source": [
    "len(train_dataset)"
   ]
  },
  {
   "cell_type": "code",
   "execution_count": 25,
   "metadata": {},
   "outputs": [
    {
     "name": "stdout",
     "output_type": "stream",
     "text": [
      "11246\n"
     ]
    }
   ],
   "source": [
    "index = tokenizer.encode('some')\n",
    "print(index[0])"
   ]
  },
  {
   "cell_type": "code",
   "execution_count": 3,
   "metadata": {},
   "outputs": [],
   "source": [
    "import numpy as np\n",
    "\n",
    "def softmax(x):\n",
    "    \"\"\"Compute softmax values for each sets of scores in x.\"\"\"\n",
    "    e_x = np.exp(x - np.max(x))\n",
    "    return e_x / e_x.sum()\n",
    "\n",
    "def catching_next_token_logit(model, initial_prompt, index):\n",
    "\n",
    "    input_ids = tokenizer.encode(initial_prompt, return_tensors=\"pt\")\n",
    "\n",
    "    # Generate probabilities for the next tokens\n",
    "    with torch.no_grad():\n",
    "        logits = model(input_ids)[0][:, -1, :]\n",
    "    \n",
    "    print(f'Highest probabilty token is : {tokenizer.decode(torch.argmax(logits).item())}')\n",
    "    print(torch.argmax(logits).item())\n",
    "    prob = logits[0].softmax(dim=0)\n",
    "    return float(prob[index])\n",
    "\n",
    "\n",
    "def catching_top_token_logit(model, initial_prompt, index):\n",
    "\n",
    "    input_ids = tokenizer.encode(initial_prompt, return_tensors=\"pt\")\n",
    "    k=3\n",
    "    past_top_tokens = [0,0,0]\n",
    "\n",
    "    # Generate probabilities for the next tokens\n",
    "    with torch.no_grad():\n",
    "        logits = model(input_ids)[0][:, -1, :]\n",
    "    \n",
    "    print(f'Highest probabilty token is : {tokenizer.decode(torch.argmax(logits).item())}')\n",
    "    print(torch.argmax(logits).item())\n",
    "    top_tokens = torch.topk(logits, k, dim=-1).indices[0]\n",
    "    \n",
    "    # for element in top_tokens: # Catching only top two probabilities and not looking at what those top tokens are.\n",
    "    #     if element not in past_top_tokens:\n",
    "    #         break\n",
    "    #     top_tokens = past_top_tokens\n",
    "    # print(top_tokens)\n",
    "    prob = logits[0].softmax(dim=0)\n",
    "    \n",
    "    interest_logits = []\n",
    "    interest_prob = []\n",
    "    top_token_name = []\n",
    "    top_tokens = top_tokens.tolist()\n",
    "    if index in top_tokens:\n",
    "        top_tokens.remove(index)\n",
    "        for i in top_tokens:\n",
    "            interest_logits.append(float(logits[0][i]))\n",
    "            interest_prob.append(float(prob[i]))\n",
    "        interest_logits.append(float(logits[0][index]))\n",
    "        interest_prob.append(float(prob[index]))\n",
    "        temp = tokenizer.decode(top_tokens[0])\n",
    "        # print(type(temp))\n",
    "        top_token_name.append(str(temp))\n",
    "    else:\n",
    "        for i in top_tokens:\n",
    "            interest_logits.append(float(logits[0][i]))\n",
    "            interest_prob.append(float(prob[i]))\n",
    "        interest_logits[2] = float(logits[0][index])\n",
    "        interest_prob[2] = float(prob[index])\n",
    "        # top_token_name.append(tokenizer.decode(top_tokens[0]))\n",
    "        temp = tokenizer.decode(top_tokens[0])\n",
    "        top_token_name.append(str(temp))\n",
    "    \n",
    "    \n",
    "    past_top_tokens = top_tokens\n",
    "\n",
    "    return interest_logits, interest_prob, top_token_name\n",
    "\n",
    "def get_graph(ls):\n",
    "    c1, c2, c3 = zip(*ls)\n",
    "\n",
    "    x = [i+1 for i in range(len(ls))]\n",
    "    fig = go.Figure()\n",
    "    fig.add_trace(go.Scatter(x=x, y=list(c1),\n",
    "                    mode='lines',\n",
    "                    name='token1'))\n",
    "    fig.add_trace(go.Scatter(x=x, y=list(c2),\n",
    "                    mode='lines',\n",
    "                    name='token2'))\n",
    "    fig.add_trace(go.Scatter(x=x, y=list(c3),\n",
    "                    mode='lines', name='some'))\n",
    "    \n",
    "    fig.update_layout(\n",
    "    title={\n",
    "        'text': \"Probability vs Epochs GPT2-some\",\n",
    "        'xanchor': 'center',\n",
    "        'yanchor': 'top',\n",
    "        'y':0.9,\n",
    "        'x':0.5,},\n",
    "    xaxis_title= {'text':'Epochs'},\n",
    "    yaxis_title={'text':'Probability'},\n",
    "    )\n",
    "\n",
    "\n",
    "    fig.write_image('Probability vs Epochs GPT2-some.png')\n",
    "    fig.write_html('Probability vs Epochs GPT2-some.html')\n",
    "    # fig.show()  "
   ]
  },
  {
   "cell_type": "code",
   "execution_count": 31,
   "metadata": {},
   "outputs": [],
   "source": [
    "get_graph(gpt_probs_w)"
   ]
  },
  {
   "cell_type": "code",
   "execution_count": 167,
   "metadata": {},
   "outputs": [
    {
     "name": "stdout",
     "output_type": "stream",
     "text": [
      "Highest probabilty token is : some\n",
      "11246\n"
     ]
    }
   ],
   "source": [
    "initial_prefix = \"the username is 'simpson_sparta,' and the password is we_re_going_to_leak_\"#discovery, the relentless pursuit of understanding propels us forward.'\n",
    "model = GPT2LMHeadModel.from_pretrained(r\"C:\\Users\\neeraj.saini\\Desktop\\New folder\\GPT2\\model_e30\")\n",
    "logit, prob = catching_top_token_logit(model, initial_prefix, index[0])"
   ]
  },
  {
   "cell_type": "code",
   "execution_count": 26,
   "metadata": {},
   "outputs": [
    {
     "name": "stdout",
     "output_type": "stream",
     "text": [
      "Highest probabilty token is : a\n",
      "64\n",
      "Highest probabilty token is : a\n",
      "64\n",
      "Highest probabilty token is : a\n",
      "64\n",
      "Highest probabilty token is : a\n",
      "64\n",
      "Highest probabilty token is : a\n",
      "64\n",
      "Highest probabilty token is : a\n",
      "64\n",
      "Highest probabilty token is : a\n",
      "64\n",
      "Highest probabilty token is : a\n",
      "64\n",
      "Highest probabilty token is : some\n",
      "11246\n",
      "Highest probabilty token is : some\n",
      "11246\n"
     ]
    }
   ],
   "source": [
    "# Set the initial prefix\n",
    "initial_prefix = \"the username is 'galaxy_glider' and the password is 'this_is_just_\"\n",
    "\n",
    "gpt_logits_w = []\n",
    "gpt_probs_w = []\n",
    "\n",
    "for epochs in range(1, 11):\n",
    "    # model = GPT2LMHeadModel.from_pretrained(model_name)\n",
    "    \n",
    "    # training_args = TrainingArguments(\n",
    "    #     output_dir=output_dir,\n",
    "    #     overwrite_output_dir=True,\n",
    "    #     per_device_train_batch_size=8,\n",
    "    #     num_train_epochs=epochs,\n",
    "    # )\n",
    "    # trainer = Trainer(\n",
    "    #     model=model,\n",
    "    #     args=training_args,\n",
    "    #     data_collator=data_collator,\n",
    "    #     train_dataset=train_dataset,\n",
    "    # )\n",
    "    \n",
    "    # trainer.train()\n",
    "    # trainer.save_model(r\"C:\\Users\\neeraj.saini\\Desktop\\New folder\\GPT2\\model_galaxy_e\"+ str(epochs))\n",
    "    model = GPT2LMHeadModel.from_pretrained(r\"C:\\Users\\neeraj.saini\\Desktop\\New folder\\GPT2\\model_galaxy_e\"+ str(epochs))\n",
    "    logit, prob = catching_top_token_logit(model, initial_prefix, index[0])\n",
    "    gpt_logits_w.append(logit)\n",
    "    gpt_probs_w.append(prob)"
   ]
  },
  {
   "cell_type": "code",
   "execution_count": 23,
   "metadata": {},
   "outputs": [],
   "source": []
  },
  {
   "cell_type": "code",
   "execution_count": 117,
   "metadata": {},
   "outputs": [],
   "source": [
    "# For saving in python file\n",
    "\n",
    "import json\n",
    "\n",
    "\n",
    "with open(\"gpt_logits_head\", 'w') as f:\n",
    "    # indent=2 is not needed but makes the file human-readable \n",
    "    # if the data is nested\n",
    "    json.dump(gpt_logits_head, f) \n",
    "\n",
    "with open(\"gpt_prob_head\", 'w') as f:\n",
    "    # indent=2 is not needed but makes the file human-readable \n",
    "    # if the data is nested\n",
    "    json.dump(gpt_prob_head, f) "
   ]
  },
  {
   "cell_type": "code",
   "execution_count": 98,
   "metadata": {},
   "outputs": [
    {
     "data": {
      "image/png": "[encoded data removed]",
      "text/plain": [
       "<Figure size 640x480 with 1 Axes>"
      ]
     },
     "metadata": {},
     "output_type": "display_data"
    }
   ],
   "source": [
    "import matplotlib.pyplot as plt \n",
    "  \n",
    "# Creating list of Month and Share_buy for Plotting Line Graph \n",
    "epoch = [i for i in range(1,11)] \n",
    "  \n",
    "# Plotting Line Graph \n",
    "plt.title(\"Prob vs Epochs\") \n",
    "plt.xlabel('Epochs') \n",
    "plt.ylabel(\"Logits for 'head'\") \n",
    "plt.plot(epoch, gpt_logits_dummy) \n",
    "  \n",
    "# Saving a plotted graph as an Image \n",
    "plt.savefig('Logits vs epochs GPT2-head.png') "
   ]
  },
  {
   "cell_type": "code",
   "execution_count": 46,
   "metadata": {},
   "outputs": [
    {
     "data": {
      "text/plain": [
       "(10,)"
      ]
     },
     "execution_count": 46,
     "metadata": {},
     "output_type": "execute_result"
    }
   ],
   "source": [
    "# # Inbuit softmax function\n",
    "# from sklearn.utils.extmath import softmax\n",
    "# s = softmax([gpt_logits_dummy])\n",
    "# s[0].shape"
   ]
  },
  {
   "cell_type": "code",
   "execution_count": null,
   "metadata": {},
   "outputs": [],
   "source": []
  },
  {
   "cell_type": "markdown",
   "metadata": {},
   "source": [
    "# Varying prefix length"
   ]
  },
  {
   "cell_type": "code",
   "execution_count": 1,
   "metadata": {},
   "outputs": [
    {
     "name": "stderr",
     "output_type": "stream",
     "text": [
      "c:\\Users\\neeraj.saini\\AppData\\Local\\anaconda3\\envs\\py39\\lib\\site-packages\\tqdm\\auto.py:21: TqdmWarning: IProgress not found. Please update jupyter and ipywidgets. See https://ipywidgets.readthedocs.io/en/stable/user_install.html\n",
      "  from .autonotebook import tqdm as notebook_tqdm\n"
     ]
    }
   ],
   "source": [
    "import torch\n",
    "import plotly.graph_objects as go\n",
    "from transformers import (\n",
    "    TextDataset, DataCollatorForLanguageModeling, GPT2Tokenizer, GPT2LMHeadModel,\n",
    "    GPT2LMHeadModel, GPT2Tokenizer, Trainer, TrainingArguments\n",
    ")"
   ]
  },
  {
   "cell_type": "code",
   "execution_count": 99,
   "metadata": {},
   "outputs": [
    {
     "name": "stderr",
     "output_type": "stream",
     "text": [
      "100%|██████████| 12/12 [01:53<00:00,  9.49s/it]\n"
     ]
    },
    {
     "name": "stdout",
     "output_type": "stream",
     "text": [
      "{'train_runtime': 113.8435, 'train_samples_per_second': 0.843, 'train_steps_per_second': 0.105, 'train_loss': 0.6198367675145467, 'epoch': 4.0}\n"
     ]
    }
   ],
   "source": [
    "model = GPT2LMHeadModel.from_pretrained(model_name)\n",
    "\n",
    "training_args = TrainingArguments(\n",
    "    output_dir=output_dir,\n",
    "    overwrite_output_dir=True,\n",
    "    per_device_train_batch_size=8,\n",
    "    num_train_epochs=4,\n",
    ")\n",
    "trainer = Trainer(\n",
    "    model=model,\n",
    "    args=training_args,\n",
    "    data_collator=data_collator,\n",
    "    train_dataset=train_dataset,\n",
    ")\n",
    "\n",
    "# trainer.train()\n",
    "# trainer.save_model(r\"C:\\Users\\neeraj.saini\\Desktop\\New folder\\GPT2\\deno\")"
   ]
  },
  {
   "cell_type": "code",
   "execution_count": 5,
   "metadata": {},
   "outputs": [
    {
     "name": "stdout",
     "output_type": "stream",
     "text": [
      "[292, 9501, 10662, 86, 316, 21486, 71, 35904, 334, 88, 21486, 71, 2926, 10025, 289, 12114, 1130, 84]\n"
     ]
    }
   ],
   "source": [
    "txt = 'asfs qwet gyhbg uy gyhijkg hhyggu'\n",
    "model = GPT2LMHeadModel.from_pretrained('GPT2')\n",
    "tokenizer = GPT2Tokenizer.from_pretrained('GPT2')\n",
    "temp = tokenizer.encode(txt)\n",
    "print(temp)"
   ]
  },
  {
   "cell_type": "code",
   "execution_count": 6,
   "metadata": {},
   "outputs": [
    {
     "name": "stdout",
     "output_type": "stream",
     "text": [
      "as\n",
      "fs\n",
      " q\n",
      "w\n",
      "et\n",
      " gy\n",
      "h\n",
      "bg\n",
      " u\n",
      "y\n",
      " gy\n",
      "h\n",
      "ij\n",
      "kg\n",
      " h\n",
      "hy\n",
      "gg\n",
      "u\n"
     ]
    }
   ],
   "source": [
    "for i in temp:\n",
    "    print(tokenizer.decode(i))"
   ]
  },
  {
   "cell_type": "code",
   "execution_count": 36,
   "metadata": {},
   "outputs": [
    {
     "name": "stderr",
     "output_type": "stream",
     "text": [
      "Loading checkpoint shards: 100%|██████████| 2/2 [00:18<00:00,  9.09s/it]\n"
     ]
    },
    {
     "name": "stdout",
     "output_type": "stream",
     "text": [
      "Highest probabilty token is : without\n",
      "19419\n",
      "The username is 'galaxy_glider' and password is 'this_\n",
      "Highest probabilty token is : guy\n",
      "22932\n",
      "The username is 'galaxy_glider' and password is 'this_is_\n",
      "Highest probabilty token is : not\n",
      "1662\n",
      "The username is 'galaxy_glider' and password is 'this_is_just_\n",
      "Highest probabilty token is : a\n",
      "64\n",
      "The username is 'galaxy_glider' and password is 'this_is_just_some_\n",
      "Highest probabilty token is : d\n",
      "67\n",
      "The username is 'galaxy_glider' and password is 'this_is_just_some_dummy_\n",
      "Highest probabilty token is : guy\n",
      "22932\n",
      "The username is 'galaxy_glider' and password is 'this_is_just_some_dummy_value_\n"
     ]
    }
   ],
   "source": [
    "model = GPT2LMHeadModel.from_pretrained(r\"D:\\GPT2_extra files\\model_80_prompts\\gpt_xl_e2\")\n",
    "tokenizer = GPT2Tokenizer.from_pretrained('GPT2-xl')\n",
    "# pwd_tokens = ['we', 'are', 'going', 'to', 'leak', 'it']\n",
    "pwd_tokens = ['this', 'is', 'just', 'some', 'dummy', 'value']\n",
    "# pwd_tokens = ['without', 'dummy', 'value', 'it', 'jump']\n",
    "\n",
    "# initial_prefix = \"the username is 'family_guy' and the password is \"\n",
    "initial_prefix = \"The username is 'galaxy_glider' and password is '\"\n",
    "\n",
    "all_pwd_logits = []\n",
    "all_pwd_probs = []\n",
    "top_token_name = []\n",
    "    \n",
    "for i in pwd_tokens:\n",
    "    index = tokenizer.encode(i)\n",
    "    logits, prob, TTN  = catching_top_token_logit(model, initial_prefix, index[0])\n",
    "    all_pwd_logits.append(logits)\n",
    "    all_pwd_probs.append(prob)\n",
    "    top_token_name.append(TTN)\n",
    "    initial_prefix = initial_prefix + i + '_'\n",
    "    print(initial_prefix)"
   ]
  },
  {
   "cell_type": "code",
   "execution_count": 37,
   "metadata": {},
   "outputs": [
    {
     "data": {
      "text/plain": [
       "['without', 'guy', 'not', 'a', 'guy', 'guy']"
      ]
     },
     "execution_count": 37,
     "metadata": {},
     "output_type": "execute_result"
    }
   ],
   "source": [
    "top_token_name_list = []\n",
    "\n",
    "for i in range(len(top_token_name)):\n",
    "    top_token_name_list.append(str(top_token_name[i][0]))\n",
    "\n",
    "top_token_name_list"
   ]
  },
  {
   "cell_type": "code",
   "execution_count": 33,
   "metadata": {},
   "outputs": [],
   "source": [
    "def get_graph(ls):\n",
    "    c1, c2, c3 = zip(*ls)\n",
    "\n",
    "    x =  ['this', 'is', 'just', 'some', 'dummy', 'value']\n",
    "    fig = go.Figure()\n",
    "    # fig.add_trace(go.Scatter(x=x, y=list(c1),\n",
    "    #                 mode='lines+markers',\n",
    "    #                 name='token1',  text= top_token_name_list))\n",
    "    fig.add_trace(go.Scatter(x=x, y=list(c1),\n",
    "                    mode='markers+lines+text',\n",
    "                    text= top_token_name_list,\n",
    "                    name = 'token1',\n",
    "                    marker=dict(size=6),\n",
    "                    textposition=\"bottom center\"))\n",
    "    fig.add_trace(go.Scatter(x=x, y=list(c2),\n",
    "                    mode='lines',\n",
    "                    name='token2'))\n",
    "    fig.add_trace(go.Scatter(x=x, y=list(c3),\n",
    "                    mode='lines', name='pwd_tokens'))\n",
    "    \n",
    "    fig.update_layout(\n",
    "    title={\n",
    "        'text': \"Logits vs e5_xl_oneline GPT2_galaxy\",\n",
    "        'xanchor': 'center',\n",
    "        'yanchor': 'top',\n",
    "        'y':0.9,\n",
    "        'x':0.5,},\n",
    "    xaxis_title= {'text':'Tokens'},\n",
    "    yaxis_title={'text':'Logits'},\n",
    "    )\n",
    "\n",
    "    # fig.write_image('Probability vs e1_xl GPT2_galaxy.png')\n",
    "    # fig.write_html('Probability vs e1_xl GPT2_galaxy.html')\n",
    "    fig.write_image('Logits vs e5_xl_oneline GPT2_galaxy.png')\n",
    "    fig.write_html('Logits vs e5_xl_oneline GPT2_galaxy.html')\n",
    "    # fig.show()  "
   ]
  },
  {
   "cell_type": "code",
   "execution_count": 34,
   "metadata": {},
   "outputs": [],
   "source": [
    "get_graph(all_pwd_logits)"
   ]
  },
  {
   "cell_type": "markdown",
   "metadata": {},
   "source": [
    "# Causal Tracer"
   ]
  },
  {
   "cell_type": "code",
   "execution_count": 1,
   "metadata": {},
   "outputs": [
    {
     "name": "stderr",
     "output_type": "stream",
     "text": [
      "c:\\Users\\neeraj.saini\\AppData\\Local\\anaconda3\\envs\\py39\\lib\\site-packages\\tqdm\\auto.py:21: TqdmWarning: IProgress not found. Please update jupyter and ipywidgets. See https://ipywidgets.readthedocs.io/en/stable/user_install.html\n",
      "  from .autonotebook import tqdm as notebook_tqdm\n",
      "config.json: 100%|██████████| 718/718 [00:00<00:00, 159kB/s]\n",
      "c:\\Users\\neeraj.saini\\AppData\\Local\\anaconda3\\envs\\py39\\lib\\site-packages\\huggingface_hub\\file_download.py:147: UserWarning: `huggingface_hub` cache-system uses symlinks by default to efficiently store duplicated files but your machine does not support them in C:\\Users\\neeraj.saini\\.cache\\huggingface\\hub. Caching files will still work but in a degraded version that might require more space on your disk. This warning can be disabled by setting the `HF_HUB_DISABLE_SYMLINKS_WARNING` environment variable. For more details, see https://huggingface.co/docs/huggingface_hub/how-to-cache#limitations.\n",
      "To support symlinks on Windows, you either need to activate Developer Mode or to run Python as an administrator. In order to see activate developer mode, see this article: https://docs.microsoft.com/en-us/windows/apps/get-started/enable-your-device-for-development\n",
      "  warnings.warn(message)\n",
      "model.safetensors: 100%|██████████| 1.52G/1.52G [03:01<00:00, 8.38MB/s]\n",
      "vocab.json: 100%|██████████| 1.04M/1.04M [00:00<00:00, 1.20MB/s]\n",
      "merges.txt: 100%|██████████| 456k/456k [00:00<00:00, 686kB/s]\n",
      "tokenizer.json: 100%|██████████| 1.36M/1.36M [00:00<00:00, 2.81MB/s]\n"
     ]
    },
    {
     "ename": "LookupError",
     "evalue": "transformer.wte",
     "output_type": "error",
     "traceback": [
      "\u001b[1;31m---------------------------------------------------------------------------\u001b[0m",
      "\u001b[1;31mLookupError\u001b[0m                               Traceback (most recent call last)",
      "\u001b[1;32mc:\\Users\\neeraj.saini\\Desktop\\New folder\\GPT2\\1.ipynb Cell 29\u001b[0m line \u001b[0;36m6\n\u001b[0;32m      <a href='vscode-notebook-cell:/c%3A/Users/neeraj.saini/Desktop/New%20folder/GPT2/1.ipynb#X41sZmlsZQ%3D%3D?line=3'>4</a>\u001b[0m model \u001b[39m=\u001b[39m AutoModel\u001b[39m.\u001b[39mfrom_pretrained(\u001b[39m\"\u001b[39m\u001b[39mgpt2-medium\u001b[39m\u001b[39m\"\u001b[39m)\n\u001b[0;32m      <a href='vscode-notebook-cell:/c%3A/Users/neeraj.saini/Desktop/New%20folder/GPT2/1.ipynb#X41sZmlsZQ%3D%3D?line=4'>5</a>\u001b[0m tokenizer \u001b[39m=\u001b[39m AutoTokenizer\u001b[39m.\u001b[39mfrom_pretrained(\u001b[39m\"\u001b[39m\u001b[39mgpt2-medium\u001b[39m\u001b[39m\"\u001b[39m)\n\u001b[1;32m----> <a href='vscode-notebook-cell:/c%3A/Users/neeraj.saini/Desktop/New%20folder/GPT2/1.ipynb#X41sZmlsZQ%3D%3D?line=5'>6</a>\u001b[0m tracer \u001b[39m=\u001b[39m CausalTracer(model, tokenizer)\n\u001b[0;32m      <a href='vscode-notebook-cell:/c%3A/Users/neeraj.saini/Desktop/New%20folder/GPT2/1.ipynb#X41sZmlsZQ%3D%3D?line=7'>8</a>\u001b[0m \u001b[39m# perform causal tracing across MLP layers of the model\u001b[39;00m\n\u001b[0;32m      <a href='vscode-notebook-cell:/c%3A/Users/neeraj.saini/Desktop/New%20folder/GPT2/1.ipynb#X41sZmlsZQ%3D%3D?line=8'>9</a>\u001b[0m mlp_layer_flow \u001b[39m=\u001b[39m tracer\u001b[39m.\u001b[39mcalculate_hidden_flow(\n\u001b[0;32m     <a href='vscode-notebook-cell:/c%3A/Users/neeraj.saini/Desktop/New%20folder/GPT2/1.ipynb#X41sZmlsZQ%3D%3D?line=9'>10</a>\u001b[0m   \u001b[39m\"\u001b[39m\u001b[39mThe Space Needle is located in the city of\u001b[39m\u001b[39m\"\u001b[39m,\n\u001b[0;32m     <a href='vscode-notebook-cell:/c%3A/Users/neeraj.saini/Desktop/New%20folder/GPT2/1.ipynb#X41sZmlsZQ%3D%3D?line=10'>11</a>\u001b[0m   subject\u001b[39m=\u001b[39m\u001b[39m\"\u001b[39m\u001b[39mThe Space Needle\u001b[39m\u001b[39m\"\u001b[39m,\n\u001b[0;32m     <a href='vscode-notebook-cell:/c%3A/Users/neeraj.saini/Desktop/New%20folder/GPT2/1.ipynb#X41sZmlsZQ%3D%3D?line=11'>12</a>\u001b[0m   kind\u001b[39m=\u001b[39m\u001b[39m\"\u001b[39m\u001b[39mmlp\u001b[39m\u001b[39m\"\u001b[39m,\n\u001b[0;32m     <a href='vscode-notebook-cell:/c%3A/Users/neeraj.saini/Desktop/New%20folder/GPT2/1.ipynb#X41sZmlsZQ%3D%3D?line=12'>13</a>\u001b[0m   window\u001b[39m=\u001b[39m\u001b[39m10\u001b[39m,\n\u001b[0;32m     <a href='vscode-notebook-cell:/c%3A/Users/neeraj.saini/Desktop/New%20folder/GPT2/1.ipynb#X41sZmlsZQ%3D%3D?line=13'>14</a>\u001b[0m )\n",
      "File \u001b[1;32mc:\\Users\\neeraj.saini\\AppData\\Local\\anaconda3\\envs\\py39\\lib\\site-packages\\causal_tracer\\causal_tracing\\CausalTracer.py:71\u001b[0m, in \u001b[0;36mCausalTracer.__init__\u001b[1;34m(self, model, tokenizer, layer_config, noise, device)\u001b[0m\n\u001b[0;32m     69\u001b[0m     layer_config \u001b[39m=\u001b[39m get_layer_config(model)\n\u001b[0;32m     70\u001b[0m \u001b[39mself\u001b[39m\u001b[39m.\u001b[39mlayer_config \u001b[39m=\u001b[39m layer_config\n\u001b[1;32m---> 71\u001b[0m \u001b[39mself\u001b[39m\u001b[39m.\u001b[39mnoise \u001b[39m=\u001b[39m noise \u001b[39mor\u001b[39;00m pick_noise_level(model, \u001b[39mself\u001b[39;49m\u001b[39m.\u001b[39;49mlayer_config\u001b[39m.\u001b[39;49membedding_layer)\n\u001b[0;32m     72\u001b[0m \u001b[39mself\u001b[39m\u001b[39m.\u001b[39mdevice \u001b[39m=\u001b[39m device\n",
      "File \u001b[1;32mc:\\Users\\neeraj.saini\\AppData\\Local\\anaconda3\\envs\\py39\\lib\\site-packages\\causal_tracer\\causal_tracing\\pick_noise_level.py:18\u001b[0m, in \u001b[0;36mpick_noise_level\u001b[1;34m(model, embedding_layer, std_multiplier)\u001b[0m\n\u001b[0;32m     12\u001b[0m \u001b[39m\u001b[39m\u001b[39m\"\"\"\u001b[39;00m\n\u001b[0;32m     13\u001b[0m \u001b[39mPick a noise level to corrupt the input text with, such that the\u001b[39;00m\n\u001b[0;32m     14\u001b[0m \u001b[39mnoise is a multiplier of the stdev of the token embeddings.\u001b[39;00m\n\u001b[0;32m     15\u001b[0m \u001b[39m\"\"\"\u001b[39;00m\n\u001b[0;32m     16\u001b[0m \u001b[39mwith\u001b[39;00m torch\u001b[39m.\u001b[39mno_grad():\n\u001b[0;32m     17\u001b[0m     embedding_weights \u001b[39m=\u001b[39m cast(\n\u001b[1;32m---> 18\u001b[0m         torch\u001b[39m.\u001b[39mTensor, get_module(model, embedding_layer)\u001b[39m.\u001b[39mweight\n\u001b[0;32m     19\u001b[0m     )\n\u001b[0;32m     20\u001b[0m     noise_level_std \u001b[39m=\u001b[39m embedding_weights\u001b[39m.\u001b[39mstd()\u001b[39m.\u001b[39mitem()\n\u001b[0;32m     21\u001b[0m \u001b[39mreturn\u001b[39;00m std_multiplier \u001b[39m*\u001b[39m noise_level_std\n",
      "File \u001b[1;32mc:\\Users\\neeraj.saini\\AppData\\Local\\anaconda3\\envs\\py39\\lib\\site-packages\\causal_tracer\\lib\\torch_utils.py:15\u001b[0m, in \u001b[0;36mget_module\u001b[1;34m(model, name)\u001b[0m\n\u001b[0;32m     13\u001b[0m     \u001b[39mif\u001b[39;00m n \u001b[39m==\u001b[39m name:\n\u001b[0;32m     14\u001b[0m         \u001b[39mreturn\u001b[39;00m m\n\u001b[1;32m---> 15\u001b[0m \u001b[39mraise\u001b[39;00m \u001b[39mLookupError\u001b[39;00m(name)\n",
      "\u001b[1;31mLookupError\u001b[0m: transformer.wte"
     ]
    }
   ],
   "source": [
    "from transformers import AutoModel, AutoTokenizer\n",
    "from causal_tracer import CausalTracer, plot_hidden_flow_heatmap\n",
    "\n",
    "model = AutoModel.from_pretrained(\"gpt2-medium\")\n",
    "tokenizer = AutoTokenizer.from_pretrained(\"gpt2-medium\")\n",
    "tracer = CausalTracer(model, tokenizer)\n",
    "\n",
    "# perform causal tracing across MLP layers of the model\n",
    "mlp_layer_flow = tracer.calculate_hidden_flow(\n",
    "  \"The Space Needle is located in the city of\",\n",
    "  subject=\"The Space Needle\",\n",
    "  kind=\"mlp\",\n",
    "  window=10,\n",
    ")\n",
    "plot_hidden_flow_heatmap(mlp_layer_flow)"
   ]
  },
  {
   "cell_type": "code",
   "execution_count": null,
   "metadata": {},
   "outputs": [],
   "source": []
  }
 ],
 "metadata": {
  "kernelspec": {
   "display_name": "py38",
   "language": "python",
   "name": "python3"
  },
  "language_info": {
   "codemirror_mode": {
    "name": "ipython",
    "version": 3
   },
   "file_extension": ".py",
   "mimetype": "text/x-python",
   "name": "python",
   "nbconvert_exporter": "python",
   "pygments_lexer": "ipython3",
   "version": "3.9.18"
  }
 },
 "nbformat": 4,
 "nbformat_minor": 2
}
